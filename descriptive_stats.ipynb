{
  "nbformat": 4,
  "nbformat_minor": 0,
  "metadata": {
    "colab": {
      "name": "descriptive-stats.ipynb",
      "provenance": [],
      "collapsed_sections": []
    },
    "kernelspec": {
      "name": "python3",
      "display_name": "Python 3"
    },
    "language_info": {
      "name": "python"
    }
  },
  "cells": [
    {
      "cell_type": "markdown",
      "metadata": {
        "id": "g-ig7liFcHoM"
      },
      "source": [
        "**Set up project config**"
      ]
    },
    {
      "cell_type": "code",
      "metadata": {
        "id": "BUjziWfgbypG"
      },
      "source": [
        "## You need to change the project ID to match your GCP\n",
        "PROJECT_ID = \"halogen-rarity-312520\""
      ],
      "execution_count": 2,
      "outputs": []
    },
    {
      "cell_type": "code",
      "metadata": {
        "colab": {
          "base_uri": "https://localhost:8080/"
        },
        "id": "XvmqfgOWb74T",
        "outputId": "e2084c5d-58ae-4aa5-f2a5-1040ba6d0857"
      },
      "source": [
        "import os\n",
        "from google.colab import auth\n",
        "\n",
        "#sets dateset\n",
        "DATASET_PROJECT_ID = 'amsterdamumcdb-data'\n",
        "DATASET_ID = 'ams102'\n",
        "LOCATION = 'eu'\n",
        "\n",
        "#all libraries check this environment variable, so set it:\n",
        "os.environ[\"GOOGLE_CLOUD_PROJECT\"] = PROJECT_ID\n",
        "\n",
        "auth.authenticate_user()\n",
        "print('Authenticated')"
      ],
      "execution_count": 3,
      "outputs": [
        {
          "output_type": "stream",
          "text": [
            "Authenticated\n"
          ],
          "name": "stdout"
        }
      ]
    },
    {
      "cell_type": "markdown",
      "metadata": {
        "id": "fvgbmNSHcLkY"
      },
      "source": [
        "**Set up Google Cloud Platform / Big Query config**"
      ]
    },
    {
      "cell_type": "code",
      "metadata": {
        "id": "ziuzU5vzb_Cv"
      },
      "source": [
        "from google.cloud.bigquery import magics\n",
        "from google.cloud import bigquery\n",
        "\n",
        "#sets the default query job configuration\n",
        "def_config = bigquery.job.QueryJobConfig(default_dataset=DATASET_PROJECT_ID + \".\" + DATASET_ID)\n",
        "magics.context.default_query_job_config = def_config\n",
        "\n",
        "#sets client options job configuration\n",
        "client_options = {}\n",
        "client_options['location'] = LOCATION\n",
        "magics.context.bigquery_client_options = client_options"
      ],
      "execution_count": 4,
      "outputs": []
    },
    {
      "cell_type": "code",
      "metadata": {
        "id": "LhOt17lYcETI"
      },
      "source": [
        "import pandas as pd\n",
        "import numpy as np\n",
        "import re\n",
        "\n",
        "config_gbq = {'query': \n",
        "          {'defaultDataset': {\n",
        "              \"datasetId\": DATASET_ID, \n",
        "              \"projectId\": DATASET_PROJECT_ID\n",
        "              },\n",
        "           'Location': LOCATION}\n",
        "           }"
      ],
      "execution_count": 5,
      "outputs": []
    },
    {
      "cell_type": "code",
      "metadata": {
        "id": "HLuJ942nrA_B"
      },
      "source": [
        "pd.set_option('display.max_rows', 100)"
      ],
      "execution_count": 6,
      "outputs": []
    },
    {
      "cell_type": "code",
      "metadata": {
        "id": "AWE5Q7Uvphrd"
      },
      "source": [
        "diagnoses_sql = '''\n",
        "WITH diagnosis_groups AS (\n",
        "    SELECT admissionid,\n",
        "        item, \n",
        "        value as diagnosis_group,\n",
        "        valueid as diagnosis_group_id,\n",
        "        ROW_NUMBER() OVER(PARTITION BY admissionid\n",
        "        ORDER BY \n",
        "            CASE --prefer NICE > APACHE IV > II > D\n",
        "                WHEN itemid = 18671 THEN 6 --NICE APACHEIV diagnosen\n",
        "                WHEN itemid = 18669 THEN 5 --NICE APACHEII diagnosen                \n",
        "                WHEN itemid BETWEEN 16998 AND 17017 THEN 4 --APACHE IV diagnosis        \n",
        "                WHEN itemid BETWEEN 18589 AND 18602 THEN 3 --APACHE II diagnosis\n",
        "                WHEN itemid BETWEEN 13116 AND 13145 THEN 2 --D diagnosis ICU\n",
        "                WHEN itemid BETWEEN 16642 AND 16673 THEN 1 --DMC diagnosis Medium Care\n",
        "            END DESC,\n",
        "        measuredat DESC) AS rownum\n",
        "    FROM listitems\n",
        "    WHERE itemid IN (\n",
        "        --MAIN GROUP - LEVEL 0\n",
        "        13110, --D_Hoofdgroep\n",
        "        16651, --DMC_Hoofdgroep, Medium Care\n",
        "        \n",
        "        18588, --Apache II Hoofdgroep\n",
        "        16997, --APACHE IV Groepen\n",
        "        \n",
        "        18669, --NICE APACHEII diagnosen\n",
        "        18671 --NICE APACHEIV diagnosen\n",
        "    )\n",
        "),diagnosis_subgroups AS (\n",
        "    SELECT admissionid,\n",
        "        item, \n",
        "        value as diagnosis_subgroup,\n",
        "        valueid as diagnosis_subgroup_id,\n",
        "        ROW_NUMBER() OVER(PARTITION BY admissionid\n",
        "        ORDER BY measuredat DESC) AS rownum\n",
        "    FROM listitems\n",
        "    WHERE itemid IN (\n",
        "        --SUB GROUP - LEVEL 1\n",
        "        13111, --D_Subgroep_Thoraxchirurgie\n",
        "        16669, --DMC_Subgroep_Thoraxchirurgie\n",
        "        13112, --D_Subgroep_Algemene chirurgie\n",
        "        16665, --DMC_Subgroep_Algemene chirurgie\n",
        "        13113, --D_Subgroep_Neurochirurgie\n",
        "        16667, --DMC_Subgroep_Neurochirurgie\n",
        "        13114, --D_Subgroep_Neurologie\n",
        "        16668, --DMC_Subgroep_Neurologie\n",
        "        13115, --D_Subgroep_Interne geneeskunde\n",
        "        16666 --DMC_Subgroep_Interne geneeskunde\n",
        "    )\n",
        "), diagnoses AS (\n",
        "    SELECT admissionid,\n",
        "        item, \n",
        "        value as diagnosis,\n",
        "        CASE\n",
        "            WHEN itemid IN (\n",
        "                --SURGICAL\n",
        "                13116, --D_Thoraxchirurgie_CABG en Klepchirurgie\n",
        "                16671, --DMC_Thoraxchirurgie_CABG en Klepchirurgie\n",
        "                13117, --D_Thoraxchirurgie_Cardio anders\n",
        "                16672, --DMC_Thoraxchirurgie_Cardio anders\n",
        "                13118, --D_Thoraxchirurgie_Aorta chirurgie\n",
        "                16670, --DMC_Thoraxchirurgie_Aorta chirurgie\n",
        "                13119, --D_Thoraxchirurgie_Pulmonale chirurgie\n",
        "                16673, --DMC_Thoraxchirurgie_Pulmonale chirurgie\n",
        "\n",
        "                --Not surgical: 13141, --D_Algemene chirurgie_Algemeen   \n",
        "                --Not surgical: 16642, --DMC_Algemene chirurgie_Algemeen\n",
        "                13121, --D_Algemene chirurgie_Buikchirurgie\n",
        "                16643, --DMC_Algemene chirurgie_Buikchirurgie\n",
        "                13123, --D_Algemene chirurgie_Endocrinologische chirurgie\n",
        "                16644, --DMC_Algemene chirurgie_Endocrinologische chirurgie\n",
        "                13145, --D_Algemene chirurgie_KNO/Overige\n",
        "                16645, --DMC_Algemene chirurgie_KNO/Overige\n",
        "                13125, --D_Algemene chirurgie_Orthopedische chirurgie\n",
        "                16646, --DMC_Algemene chirurgie_Orthopedische chirurgie\n",
        "                13122, --D_Algemene chirurgie_Transplantatie chirurgie\n",
        "                16647, --DMC_Algemene chirurgie_Transplantatie chirurgie\n",
        "                13124, --D_Algemene chirurgie_Trauma\n",
        "                16648, --DMC_Algemene chirurgie_Trauma\n",
        "                13126, --D_Algemene chirurgie_Urogenitaal\n",
        "                16649, --DMC_Algemene chirurgie_Urogenitaal\n",
        "                13120, --D_Algemene chirurgie_Vaatchirurgie\n",
        "                16650, --DMC_Algemene chirurgie_Vaatchirurgie\n",
        "\n",
        "                13128, --D_Neurochirurgie _Vasculair chirurgisch\n",
        "                16661, --DMC_Neurochirurgie _Vasculair chirurgisch\n",
        "                13129, --D_Neurochirurgie _Tumor chirurgie\n",
        "                16660, --DMC_Neurochirurgie _Tumor chirurgie\n",
        "                13130, --D_Neurochirurgie_Overige\n",
        "                16662, --DMC_Neurochirurgie_Overige\n",
        "\n",
        "                18596, --Apache II Operatief  Gastr-intenstinaal\n",
        "                18597, --Apache II Operatief Cardiovasculair\n",
        "                18598, --Apache II Operatief Hematologisch\n",
        "                18599, --Apache II Operatief Metabolisme\n",
        "                18600, --Apache II Operatief Neurologisch\n",
        "                18601, --Apache II Operatief Renaal\n",
        "                18602, --Apache II Operatief Respiratoir\n",
        "\n",
        "                17008, --APACHEIV Post-operative cardiovascular\n",
        "                17009, --APACHEIV Post-operative gastro-intestinal\n",
        "                17010, --APACHEIV Post-operative genitourinary\n",
        "                17011, --APACHEIV Post-operative hematology\n",
        "                17012, --APACHEIV Post-operative metabolic\n",
        "                17013, --APACHEIV Post-operative musculoskeletal /skin\n",
        "                17014, --APACHEIV Post-operative neurologic\n",
        "                17015, --APACHEIV Post-operative respiratory\n",
        "                17016, --APACHEIV Post-operative transplant\n",
        "                17017 --APACHEIV Post-operative trauma\n",
        "\n",
        "            ) THEN 1\n",
        "            WHEN itemid = 18669 AND valueid BETWEEN 1 AND 26 THEN 1 --NICE APACHEII diagnosen\n",
        "            WHEN itemid = 18671 AND valueid BETWEEN 222 AND 452 THEN 1 --NICE APACHEIV diagnosen\n",
        "            ELSE 0\n",
        "        END AS surgical,\n",
        "        valueid as diagnosis_id,\n",
        "        CASE \n",
        "                WHEN itemid = 18671 THEN 'NICE APACHE IV'\n",
        "                WHEN itemid = 18669 THEN 'NICE APACHE II'\n",
        "                WHEN itemid BETWEEN 16998 AND 17017 THEN 'APACHE IV'\n",
        "                WHEN itemid BETWEEN 18589 AND 18602 THEN 'APACHE II'\n",
        "                WHEN itemid BETWEEN 13116 AND 13145 THEN 'Legacy ICU'\n",
        "                WHEN itemid BETWEEN 16642 AND 16673 THEN 'Legacy MCU'\n",
        "        END AS diagnosis_type,\n",
        "        ROW_NUMBER() OVER(PARTITION BY admissionid\n",
        "        ORDER BY \n",
        "            CASE --prefer NICE > APACHE IV > II > D\n",
        "                WHEN itemid = 18671 THEN 6 --NICE APACHEIV diagnosen\n",
        "                WHEN itemid = 18669 THEN 5 --NICE APACHEII diagnosen                \n",
        "                WHEN itemid BETWEEN 16998 AND 17017 THEN 4 --APACHE IV diagnosis        \n",
        "                WHEN itemid BETWEEN 18589 AND 18602 THEN 3 --APACHE II diagnosis\n",
        "                WHEN itemid BETWEEN 13116 AND 13145 THEN 2 --D diagnosis ICU\n",
        "                WHEN itemid BETWEEN 16642 AND 16673 THEN 1 --DMC diagnosis Medium Care\n",
        "            END DESC,\n",
        "            measuredat DESC) AS rownum\n",
        "    FROM listitems\n",
        "    WHERE itemid IN (\n",
        "        -- Diagnosis - LEVEL 2\n",
        "        --SURGICAL\n",
        "        13116, --D_Thoraxchirurgie_CABG en Klepchirurgie\n",
        "        16671, --DMC_Thoraxchirurgie_CABG en Klepchirurgie\n",
        "        13117, --D_Thoraxchirurgie_Cardio anders\n",
        "        16672, --DMC_Thoraxchirurgie_Cardio anders\n",
        "        13118, --D_Thoraxchirurgie_Aorta chirurgie\n",
        "        16670, --DMC_Thoraxchirurgie_Aorta chirurgie\n",
        "        13119, --D_Thoraxchirurgie_Pulmonale chirurgie\n",
        "        16673, --DMC_Thoraxchirurgie_Pulmonale chirurgie\n",
        "        \n",
        "        13141, --D_Algemene chirurgie_Algemeen   \n",
        "        16642, --DMC_Algemene chirurgie_Algemeen\n",
        "        13121, --D_Algemene chirurgie_Buikchirurgie\n",
        "        16643, --DMC_Algemene chirurgie_Buikchirurgie\n",
        "        13123, --D_Algemene chirurgie_Endocrinologische chirurgie\n",
        "        16644, --DMC_Algemene chirurgie_Endocrinologische chirurgie\n",
        "        13145, --D_Algemene chirurgie_KNO/Overige\n",
        "        16645, --DMC_Algemene chirurgie_KNO/Overige\n",
        "        13125, --D_Algemene chirurgie_Orthopedische chirurgie\n",
        "        16646, --DMC_Algemene chirurgie_Orthopedische chirurgie\n",
        "        13122, --D_Algemene chirurgie_Transplantatie chirurgie\n",
        "        16647, --DMC_Algemene chirurgie_Transplantatie chirurgie\n",
        "        13124, --D_Algemene chirurgie_Trauma\n",
        "        16648, --DMC_Algemene chirurgie_Trauma\n",
        "        13126, --D_Algemene chirurgie_Urogenitaal\n",
        "        16649, --DMC_Algemene chirurgie_Urogenitaal\n",
        "        13120, --D_Algemene chirurgie_Vaatchirurgie\n",
        "        16650, --DMC_Algemene chirurgie_Vaatchirurgie\n",
        "\n",
        "        13128, --D_Neurochirurgie _Vasculair chirurgisch\n",
        "        16661, --DMC_Neurochirurgie _Vasculair chirurgisch\n",
        "        13129, --D_Neurochirurgie _Tumor chirurgie\n",
        "        16660, --DMC_Neurochirurgie _Tumor chirurgie\n",
        "        13130, --D_Neurochirurgie_Overige\n",
        "        16662, --DMC_Neurochirurgie_Overige\n",
        "        \n",
        "        18596, --Apache II Operatief  Gastr-intenstinaal\n",
        "        18597, --Apache II Operatief Cardiovasculair\n",
        "        18598, --Apache II Operatief Hematologisch\n",
        "        18599, --Apache II Operatief Metabolisme\n",
        "        18600, --Apache II Operatief Neurologisch\n",
        "        18601, --Apache II Operatief Renaal\n",
        "        18602, --Apache II Operatief Respiratoir\n",
        "        \n",
        "        17008, --APACHEIV Post-operative cardiovascular\n",
        "        17009, --APACHEIV Post-operative gastro-intestinal\n",
        "        17010, --APACHEIV Post-operative genitourinary\n",
        "        17011, --APACHEIV Post-operative hematology\n",
        "        17012, --APACHEIV Post-operative metabolic\n",
        "        17013, --APACHEIV Post-operative musculoskeletal /skin\n",
        "        17014, --APACHEIV Post-operative neurologic\n",
        "        17015, --APACHEIV Post-operative respiratory\n",
        "        17016, --APACHEIV Post-operative transplant\n",
        "        17017, --APACHEIV Post-operative trauma\n",
        "\n",
        "        --MEDICAL\n",
        "        13133, --D_Interne Geneeskunde_Cardiovasculair\n",
        "        16653, --DMC_Interne Geneeskunde_Cardiovasculair\n",
        "        13134, --D_Interne Geneeskunde_Pulmonaal\n",
        "        16658, --DMC_Interne Geneeskunde_Pulmonaal\n",
        "        13135, --D_Interne Geneeskunde_Abdominaal\n",
        "        16652, --DMC_Interne Geneeskunde_Abdominaal\n",
        "        13136, --D_Interne Geneeskunde_Infectieziekten\n",
        "        16655, --DMC_Interne Geneeskunde_Infectieziekten\n",
        "        13137, --D_Interne Geneeskunde_Metabool\n",
        "        16656, --DMC_Interne Geneeskunde_Metabool\n",
        "        13138, --D_Interne Geneeskunde_Renaal\n",
        "        16659, --DMC_Interne Geneeskunde_Renaal\n",
        "        13139, --D_Interne Geneeskunde_Hematologisch\n",
        "        16654, --DMC_Interne Geneeskunde_Hematologisch\n",
        "        13140, --D_Interne Geneeskunde_Overige\n",
        "        16657, --DMC_Interne Geneeskunde_Overige\n",
        "\n",
        "        13131, --D_Neurologie_Vasculair neurologisch\n",
        "        16664, --DMC_Neurologie_Vasculair neurologisch\n",
        "        13132, --D_Neurologie_Overige\n",
        "        16663, --DMC_Neurologie_Overige \n",
        "        13127, --D_KNO/Overige\n",
        "        \n",
        "        18589, --Apache II Non-Operatief Cardiovasculair\n",
        "        18590, --Apache II Non-Operatief Gastro-intestinaal\n",
        "        18591, --Apache II Non-Operatief Hematologisch\n",
        "        18592, --Apache II Non-Operatief Metabolisme\n",
        "        18593, --Apache II Non-Operatief Neurologisch\n",
        "        18594, --Apache II Non-Operatief Renaal\n",
        "        18595, --Apache II Non-Operatief Respiratoir\n",
        "        \n",
        "        16998, --APACHE IV Non-operative cardiovascular\n",
        "        16999, --APACHE IV Non-operative Gastro-intestinal\n",
        "        17000, --APACHE IV Non-operative genitourinary\n",
        "        17001, --APACHEIV  Non-operative haematological\n",
        "        17002, --APACHEIV  Non-operative metabolic\n",
        "        17003, --APACHEIV Non-operative musculo-skeletal\n",
        "        17004, --APACHEIV Non-operative neurologic\n",
        "        17005, --APACHEIV Non-operative respiratory\n",
        "        17006, --APACHEIV Non-operative transplant\n",
        "        17007, --APACHEIV Non-operative trauma\n",
        "        \n",
        "        --NICE: surgical/medical combined in same parameter\n",
        "        18669, --NICE APACHEII diagnosen\n",
        "        18671 --NICE APACHEIV diagnosen\n",
        "    )\n",
        "), sepsis AS (\n",
        "    SELECT\n",
        "        admissionid,\n",
        "        CASE valueid\n",
        "            WHEN 1 THEN 1 --'Ja'\n",
        "            WHEN 2 THEN 0 --'Nee'\n",
        "        END as sepsis_at_admission,\n",
        "        ROW_NUMBER() OVER(\n",
        "            PARTITION BY \n",
        "                admissionid\n",
        "            ORDER BY \n",
        "                measuredat DESC) AS rownum\n",
        "    FROM listitems\n",
        "    WHERE \n",
        "        itemid = 15808\n",
        "), sepsis_antibiotics AS ( --non prophylactic antibiotics\n",
        "    SELECT\n",
        "        admissionid,\n",
        "        CASE \n",
        "            WHEN COUNT(*) > 0 THEN 1\n",
        "            ELSE 0\n",
        "        END AS sepsis_antibiotics_bool,\n",
        "        STRING_AGG(DISTINCT item, '; ') AS sepsis_antibiotics_given\n",
        "    FROM drugitems\n",
        "    WHERE \n",
        "        itemid IN (\n",
        "            6834, --Amikacine (Amukin)\n",
        "            6847, --Amoxicilline (Clamoxyl/Flemoxin)\n",
        "            6871, --Benzylpenicilline (Penicilline)\n",
        "            6917, --Ceftazidim (Fortum)\n",
        "            --6919, --Cefotaxim (Claforan) -> prophylaxis\n",
        "            6948, --Ciprofloxacine (Ciproxin)\n",
        "            6953, --Rifampicine (Rifadin)\n",
        "            6958, --Clindamycine (Dalacin)\n",
        "            7044, --Tobramycine (Obracin)\n",
        "            --7064, --Vancomycine -> prophylaxis for valve surgery\n",
        "            7123, --Imipenem (Tienam)\n",
        "            7185, --Doxycycline (Vibramycine)\n",
        "            --7187, --Metronidazol (Flagyl) -> often used for GI surgical prophylaxis\n",
        "            --7208, --Erythromycine (Erythrocine) -> often used for gastroparesis\n",
        "            7227, --Flucloxacilline (Stafoxil/Floxapen)\n",
        "            7231, --Fluconazol (Diflucan)\n",
        "            7232, --Ganciclovir (Cymevene)\n",
        "            7233, --Flucytosine (Ancotil)\n",
        "            7235, --Gentamicine (Garamycin)\n",
        "            7243, --Foscarnet trinatrium (Foscavir)\n",
        "            7450, --Amfotericine B (Fungizone)\n",
        "            --7504, --X nader te bepalen --non-stock medication\n",
        "            8127, --Meropenem (Meronem)\n",
        "            8229, --Myambutol (ethambutol)\n",
        "            8374, --Kinine dihydrocloride\n",
        "            --8375, --Immunoglobuline (Nanogam) -> not anbiotic\n",
        "            --8394, --Co-Trimoxazol (Bactrimel) -> often prophylactic (unless high dose)\n",
        "            8547, --Voriconazol(VFEND)\n",
        "            --9029, --Amoxicilline/Clavulaanzuur (Augmentin) -> often used for ENT surgical prophylaxis\n",
        "            9030, --Aztreonam (Azactam)\n",
        "            9047, --Chlooramfenicol\n",
        "            --9075, --Fusidinezuur (Fucidin) -> prophylaxis\n",
        "            9128, --Piperacilline (Pipcil)\n",
        "            9133, --Ceftriaxon (Rocephin)\n",
        "            --9151, --Cefuroxim (Zinacef) -> often used for GI/transplant surgical prophylaxis\n",
        "            --9152, --Cefazoline (Kefzol) -> prophylaxis for cardiac surgery\n",
        "            9458, --Caspofungine\n",
        "            9542, --Itraconazol (Trisporal)\n",
        "            --9602, --Tetanusimmunoglobuline -> prophylaxis/not antibiotic\n",
        "            12398, --Levofloxacine (Tavanic)\n",
        "            12772, --Amfotericine B lipidencomplex  (Abelcet)\n",
        "            15739, --Ecalta (Anidulafungine)\n",
        "            16367, --Research Anidulafungin/placebo\n",
        "            16368, --Research Caspofungin/placebo\n",
        "            18675, --Amfotericine B in liposomen (Ambisome )\n",
        "            19137, --Linezolid (Zyvoxid)\n",
        "            19764, --Tigecycline (Tygacil)\n",
        "            19773, --Daptomycine (Cubicin)\n",
        "            20175 --Colistine\n",
        "        )\n",
        "        AND start < 6*60*60*1000 --within 6 hours (to correct for antibiotics administered before ICU)\n",
        "    GROUP BY admissionid\n",
        "), other_antibiotics AS ( --'prophylactic' antibiotics that may be used for sepsis\n",
        "    SELECT\n",
        "        admissionid,\n",
        "        CASE \n",
        "            WHEN COUNT(*) > 0 THEN 1\n",
        "            ELSE 0\n",
        "        END AS other_antibiotics_bool,\n",
        "        STRING_AGG(DISTINCT item, '; ') AS other_antibiotics_given\n",
        "    FROM drugitems\n",
        "    WHERE \n",
        "        itemid IN (\n",
        "            7064, --Vancomycine -> prophylaxis for valve surgery\n",
        "            7187, --Metronidazol (Flagyl) -> often used for GI surgical prophylaxis\n",
        "            8394, --Co-Trimoxazol (Bactrimel) -> often prophylactic (unless high dose)\n",
        "            9029, --Amoxicilline/Clavulaanzuur (Augmentin) -> often used for ENT surgical prophylaxis\n",
        "            9151, --Cefuroxim (Zinacef) -> often used for GI surgical prophylaxis\n",
        "            9152 --Cefazoline (Kefzol) -> prophylaxis\n",
        "        )\n",
        "        AND start < 24*60*60*1000 --within 24 hours (to correct for antibiotics administered before ICU)\n",
        "    GROUP BY admissionid    \n",
        "), cultures AS (\n",
        "    SELECT\n",
        "        admissionid,\n",
        "        CASE \n",
        "            WHEN COUNT(*) > 0 THEN 1\n",
        "            ELSE 0\n",
        "        END AS sepsis_cultures_bool,\n",
        "        STRING_AGG(DISTINCT item, '; ') AS sepsis_cultures_drawn\n",
        "    FROM procedureorderitems\n",
        "    WHERE \n",
        "        itemid IN (\n",
        "        --8097, --Sputumkweek afnemen -> often used routinely\n",
        "        --8418, --Urinekweek afnemen\n",
        "        --8588, --MRSA kweken afnemen \n",
        "        9189, --Bloedkweken afnemen\n",
        "        9190, --Cathetertipkweek afnemen\n",
        "        --9191, --Drainvochtkweek afnemen\n",
        "        --9192, --Faeceskweek afnemen -> Clostridium\n",
        "        --9193, --X-Kweek nader te bepalen\n",
        "        --9194, --Liquorkweek afnemen\n",
        "        --9195, --Neuskweek afnemen\n",
        "        --9197, --Perineumkweek afnemen -> often used routinely\n",
        "        -9198, --Rectumkweek afnemen -> often used routinely\n",
        "        9200, --Wondkweek afnemen\n",
        "        9202, --Ascitesvochtkweek afnemen\n",
        "        --9203, --Keelkweek afnemen -> often used routinely\n",
        "        --9204, --SDD-kweken afnemen -> often used routinely\n",
        "        9205 --Legionella sneltest (urine)\n",
        "        --1302, --SDD Inventarisatiekweken afnemen -> often used routinely\n",
        "        --19663, --Research Neuskweek COUrSe\n",
        "        --19664, --Research Sputumkweek COUrSe\n",
        "        )\n",
        "        AND registeredat < 6*60*60*1000 --within 6 hours\n",
        "    GROUP BY admissionid\n",
        ")\n",
        "SELECT \n",
        "    admissions.* \n",
        "    , diagnosis_type\n",
        "    , diagnosis, diagnosis_id\n",
        "    , diagnosis_subgroup\n",
        "    , diagnosis_subgroup_id\n",
        "    , diagnosis_group\n",
        "    , diagnosis_group_id\n",
        "    , surgical\n",
        "    , sepsis_at_admission\n",
        "    , sepsis_antibiotics_bool\n",
        "    , sepsis_antibiotics_given\n",
        "    , other_antibiotics_bool\n",
        "    , other_antibiotics_given\n",
        "    , sepsis_cultures_bool\n",
        "    , sepsis_cultures_drawn\n",
        "FROM admissions\n",
        "LEFT JOIN diagnoses on admissions.admissionid = diagnoses.admissionid\n",
        "LEFT JOIN diagnosis_subgroups on admissions.admissionid = diagnosis_subgroups.admissionid\n",
        "LEFT JOIN diagnosis_groups on admissions.admissionid = diagnosis_groups.admissionid\n",
        "LEFT JOIN sepsis on admissions.admissionid = sepsis.admissionid\n",
        "LEFT JOIN sepsis_antibiotics on admissions.admissionid = sepsis_antibiotics.admissionid\n",
        "LEFT JOIN other_antibiotics on admissions.admissionid = other_antibiotics.admissionid\n",
        "LEFT JOIN cultures on admissions.admissionid = cultures.admissionid\n",
        "WHERE --only last updated record\n",
        "    (diagnoses.rownum = 1 OR diagnoses.rownum IS NULL) AND \n",
        "    (diagnosis_subgroups.rownum = 1 OR diagnosis_subgroups.rownum IS NULL) AND\n",
        "    (diagnosis_groups.rownum = 1 OR diagnosis_groups.rownum IS NULL) AND\n",
        "    (sepsis.rownum = 1 OR sepsis.rownum IS NULL) \n",
        ";\n",
        "'''"
      ],
      "execution_count": 7,
      "outputs": []
    },
    {
      "cell_type": "markdown",
      "metadata": {
        "id": "UUbTzDuscSj1"
      },
      "source": [
        "**Load admissions table and dictionary**"
      ]
    },
    {
      "cell_type": "code",
      "metadata": {
        "colab": {
          "base_uri": "https://localhost:8080/",
          "height": 224
        },
        "id": "CJNG63fAcGta",
        "outputId": "d518f581-6113-49f2-fa79-2533860d189e"
      },
      "source": [
        "admissions = pd.read_gbq(\n",
        "  '''\n",
        "  SELECT * FROM admissions;\n",
        "  '''\n",
        "  , configuration = config_gbq)\n",
        "admissions.head()"
      ],
      "execution_count": 8,
      "outputs": [
        {
          "output_type": "execute_result",
          "data": {
            "text/html": [
              "<div>\n",
              "<style scoped>\n",
              "    .dataframe tbody tr th:only-of-type {\n",
              "        vertical-align: middle;\n",
              "    }\n",
              "\n",
              "    .dataframe tbody tr th {\n",
              "        vertical-align: top;\n",
              "    }\n",
              "\n",
              "    .dataframe thead th {\n",
              "        text-align: right;\n",
              "    }\n",
              "</style>\n",
              "<table border=\"1\" class=\"dataframe\">\n",
              "  <thead>\n",
              "    <tr style=\"text-align: right;\">\n",
              "      <th></th>\n",
              "      <th>patientid</th>\n",
              "      <th>admissionid</th>\n",
              "      <th>admissioncount</th>\n",
              "      <th>location</th>\n",
              "      <th>urgency</th>\n",
              "      <th>origin</th>\n",
              "      <th>admittedat</th>\n",
              "      <th>admissionyeargroup</th>\n",
              "      <th>dischargedat</th>\n",
              "      <th>lengthofstay</th>\n",
              "      <th>destination</th>\n",
              "      <th>gender</th>\n",
              "      <th>agegroup</th>\n",
              "      <th>dateofdeath</th>\n",
              "      <th>weightgroup</th>\n",
              "      <th>weightsource</th>\n",
              "      <th>heightgroup</th>\n",
              "      <th>heightsource</th>\n",
              "      <th>specialty</th>\n",
              "    </tr>\n",
              "  </thead>\n",
              "  <tbody>\n",
              "    <tr>\n",
              "      <th>0</th>\n",
              "      <td>117</td>\n",
              "      <td>130</td>\n",
              "      <td>1</td>\n",
              "      <td>MC</td>\n",
              "      <td>0</td>\n",
              "      <td>None</td>\n",
              "      <td>0</td>\n",
              "      <td>2003-2009</td>\n",
              "      <td>91560000</td>\n",
              "      <td>26</td>\n",
              "      <td>None</td>\n",
              "      <td>Man</td>\n",
              "      <td>70-79</td>\n",
              "      <td>NaN</td>\n",
              "      <td>70-79</td>\n",
              "      <td>None</td>\n",
              "      <td>180-189</td>\n",
              "      <td>None</td>\n",
              "      <td>None</td>\n",
              "    </tr>\n",
              "    <tr>\n",
              "      <th>1</th>\n",
              "      <td>570</td>\n",
              "      <td>656</td>\n",
              "      <td>1</td>\n",
              "      <td>MC</td>\n",
              "      <td>0</td>\n",
              "      <td>None</td>\n",
              "      <td>0</td>\n",
              "      <td>2003-2009</td>\n",
              "      <td>90780000</td>\n",
              "      <td>25</td>\n",
              "      <td>None</td>\n",
              "      <td>Man</td>\n",
              "      <td>70-79</td>\n",
              "      <td>2.294424e+11</td>\n",
              "      <td>60-69</td>\n",
              "      <td>None</td>\n",
              "      <td>160-169</td>\n",
              "      <td>None</td>\n",
              "      <td>None</td>\n",
              "    </tr>\n",
              "    <tr>\n",
              "      <th>2</th>\n",
              "      <td>700</td>\n",
              "      <td>799</td>\n",
              "      <td>1</td>\n",
              "      <td>MC</td>\n",
              "      <td>0</td>\n",
              "      <td>None</td>\n",
              "      <td>0</td>\n",
              "      <td>2003-2009</td>\n",
              "      <td>104460000</td>\n",
              "      <td>29</td>\n",
              "      <td>None</td>\n",
              "      <td>Man</td>\n",
              "      <td>60-69</td>\n",
              "      <td>NaN</td>\n",
              "      <td>70-79</td>\n",
              "      <td>None</td>\n",
              "      <td>170-179</td>\n",
              "      <td>None</td>\n",
              "      <td>None</td>\n",
              "    </tr>\n",
              "    <tr>\n",
              "      <th>3</th>\n",
              "      <td>817</td>\n",
              "      <td>941</td>\n",
              "      <td>1</td>\n",
              "      <td>MC</td>\n",
              "      <td>0</td>\n",
              "      <td>None</td>\n",
              "      <td>0</td>\n",
              "      <td>2003-2009</td>\n",
              "      <td>86580000</td>\n",
              "      <td>24</td>\n",
              "      <td>None</td>\n",
              "      <td>Man</td>\n",
              "      <td>70-79</td>\n",
              "      <td>1.626498e+11</td>\n",
              "      <td>60-69</td>\n",
              "      <td>None</td>\n",
              "      <td>160-169</td>\n",
              "      <td>None</td>\n",
              "      <td>None</td>\n",
              "    </tr>\n",
              "    <tr>\n",
              "      <th>4</th>\n",
              "      <td>951</td>\n",
              "      <td>1098</td>\n",
              "      <td>1</td>\n",
              "      <td>MC</td>\n",
              "      <td>0</td>\n",
              "      <td>None</td>\n",
              "      <td>0</td>\n",
              "      <td>2003-2009</td>\n",
              "      <td>75000000</td>\n",
              "      <td>20</td>\n",
              "      <td>None</td>\n",
              "      <td></td>\n",
              "      <td>70-79</td>\n",
              "      <td>NaN</td>\n",
              "      <td>60-69</td>\n",
              "      <td>None</td>\n",
              "      <td>170-179</td>\n",
              "      <td>None</td>\n",
              "      <td>None</td>\n",
              "    </tr>\n",
              "  </tbody>\n",
              "</table>\n",
              "</div>"
            ],
            "text/plain": [
              "   patientid  admissionid  admissioncount  ... heightgroup  heightsource specialty\n",
              "0        117          130               1  ...     180-189          None      None\n",
              "1        570          656               1  ...     160-169          None      None\n",
              "2        700          799               1  ...     170-179          None      None\n",
              "3        817          941               1  ...     160-169          None      None\n",
              "4        951         1098               1  ...     170-179          None      None\n",
              "\n",
              "[5 rows x 19 columns]"
            ]
          },
          "metadata": {
            "tags": []
          },
          "execution_count": 8
        }
      ]
    },
    {
      "cell_type": "code",
      "metadata": {
        "colab": {
          "base_uri": "https://localhost:8080/"
        },
        "id": "OjWmtw0QYJu9",
        "outputId": "c6165f94-ea1e-436f-9b55-e7d81f515323"
      },
      "source": [
        "# Total number of admissions\n",
        "admissions['patientid'].nunique()"
      ],
      "execution_count": 9,
      "outputs": [
        {
          "output_type": "execute_result",
          "data": {
            "text/plain": [
              "20109"
            ]
          },
          "metadata": {
            "tags": []
          },
          "execution_count": 9
        }
      ]
    },
    {
      "cell_type": "code",
      "metadata": {
        "colab": {
          "base_uri": "https://localhost:8080/"
        },
        "id": "hj2BXzNmcXwS",
        "outputId": "62a97ee3-8f46-424f-de20-7924b770db20"
      },
      "source": [
        "#get the amsterdamumcdb package from PiPy repository for use in Colab\n",
        "!pip install amsterdamumcdb\n",
        "import amsterdamumcdb as adb\n",
        "dictionary = adb.get_dictionary()"
      ],
      "execution_count": 10,
      "outputs": [
        {
          "output_type": "stream",
          "text": [
            "Collecting amsterdamumcdb\n",
            "\u001b[?25l  Downloading https://files.pythonhosted.org/packages/b2/23/52018d23514298b2b411ee0e9046e3960eb176333c61847969dbacc4d717/amsterdamumcdb-0.1.0-py3-none-any.whl (204kB)\n",
            "\r\u001b[K     |█▋                              | 10kB 17.7MB/s eta 0:00:01\r\u001b[K     |███▏                            | 20kB 22.1MB/s eta 0:00:01\r\u001b[K     |████▉                           | 30kB 11.0MB/s eta 0:00:01\r\u001b[K     |██████▍                         | 40kB 8.7MB/s eta 0:00:01\r\u001b[K     |████████                        | 51kB 5.5MB/s eta 0:00:01\r\u001b[K     |█████████▋                      | 61kB 6.0MB/s eta 0:00:01\r\u001b[K     |███████████▎                    | 71kB 6.5MB/s eta 0:00:01\r\u001b[K     |████████████▉                   | 81kB 6.9MB/s eta 0:00:01\r\u001b[K     |██████████████▍                 | 92kB 6.6MB/s eta 0:00:01\r\u001b[K     |████████████████                | 102kB 6.9MB/s eta 0:00:01\r\u001b[K     |█████████████████▋              | 112kB 6.9MB/s eta 0:00:01\r\u001b[K     |███████████████████▎            | 122kB 6.9MB/s eta 0:00:01\r\u001b[K     |████████████████████▉           | 133kB 6.9MB/s eta 0:00:01\r\u001b[K     |██████████████████████▌         | 143kB 6.9MB/s eta 0:00:01\r\u001b[K     |████████████████████████        | 153kB 6.9MB/s eta 0:00:01\r\u001b[K     |█████████████████████████▊      | 163kB 6.9MB/s eta 0:00:01\r\u001b[K     |███████████████████████████▎    | 174kB 6.9MB/s eta 0:00:01\r\u001b[K     |████████████████████████████▉   | 184kB 6.9MB/s eta 0:00:01\r\u001b[K     |██████████████████████████████▌ | 194kB 6.9MB/s eta 0:00:01\r\u001b[K     |████████████████████████████████| 204kB 6.9MB/s \n",
            "\u001b[?25hRequirement already satisfied: numpy in /usr/local/lib/python3.7/dist-packages (from amsterdamumcdb) (1.19.5)\n",
            "Requirement already satisfied: matplotlib in /usr/local/lib/python3.7/dist-packages (from amsterdamumcdb) (3.2.2)\n",
            "Requirement already satisfied: pyparsing!=2.0.4,!=2.1.2,!=2.1.6,>=2.0.1 in /usr/local/lib/python3.7/dist-packages (from matplotlib->amsterdamumcdb) (2.4.7)\n",
            "Requirement already satisfied: cycler>=0.10 in /usr/local/lib/python3.7/dist-packages (from matplotlib->amsterdamumcdb) (0.10.0)\n",
            "Requirement already satisfied: python-dateutil>=2.1 in /usr/local/lib/python3.7/dist-packages (from matplotlib->amsterdamumcdb) (2.8.1)\n",
            "Requirement already satisfied: kiwisolver>=1.0.1 in /usr/local/lib/python3.7/dist-packages (from matplotlib->amsterdamumcdb) (1.3.1)\n",
            "Requirement already satisfied: six in /usr/local/lib/python3.7/dist-packages (from cycler>=0.10->matplotlib->amsterdamumcdb) (1.15.0)\n",
            "Installing collected packages: amsterdamumcdb\n",
            "Successfully installed amsterdamumcdb-0.1.0\n"
          ],
          "name": "stdout"
        }
      ]
    },
    {
      "cell_type": "markdown",
      "metadata": {
        "id": "j1Q0SGDWcfzd"
      },
      "source": [
        "**Load atrial fibrillation and define our subset of patients**"
      ]
    },
    {
      "cell_type": "code",
      "metadata": {
        "id": "XxxyHkRfck6F"
      },
      "source": [
        "af = pd.read_gbq(\n",
        "    '''\n",
        "    SELECT\n",
        "      admissionid\n",
        "      ,itemid\n",
        "      --,item\n",
        "      ,valueid\n",
        "      --,value\n",
        "      ,measuredat\n",
        "      --,registeredat\n",
        "      --,registeredby\n",
        "      --,updatedat\n",
        "      --,updatedby\n",
        "      --,islabresult\n",
        "    FROM listitems\n",
        "    WHERE \n",
        "      itemid = 6671\t--Hartritme\n",
        "      AND valueid = 13\t--Atr fib\n",
        "    '''\n",
        "    , configuration=config_gbq)"
      ],
      "execution_count": 11,
      "outputs": []
    },
    {
      "cell_type": "code",
      "metadata": {
        "colab": {
          "base_uri": "https://localhost:8080/"
        },
        "id": "ZyGytZi0YYwl",
        "outputId": "2203b2ff-05c9-45a3-c5f3-0dc06dd56678"
      },
      "source": [
        "# Total number of AF patients\n",
        "admissions.loc[admissions['admissionid'].isin(af['admissionid']), 'patientid'].nunique()"
      ],
      "execution_count": 12,
      "outputs": [
        {
          "output_type": "execute_result",
          "data": {
            "text/plain": [
              "3672"
            ]
          },
          "metadata": {
            "tags": []
          },
          "execution_count": 12
        }
      ]
    },
    {
      "cell_type": "code",
      "metadata": {
        "id": "jnwKnOafebTF"
      },
      "source": [
        "af_inclusion_tf = (af['measuredat'] > 0.5 * 60 * 60 * 1000) & (af['measuredat'] < 5 * 24 * 60 * 60 * 1000)\n",
        "af_exclusion_tf = af['measuredat'] < 0"
      ],
      "execution_count": 13,
      "outputs": []
    },
    {
      "cell_type": "code",
      "metadata": {
        "colab": {
          "base_uri": "https://localhost:8080/"
        },
        "id": "Fvnw08UWct0Q",
        "outputId": "b57884a8-affc-44e3-e58c-eb2e5c779838"
      },
      "source": [
        "include_admissionid = af.loc[af_inclusion_tf, 'admissionid']\n",
        "# Total number of AF patients with 0.5hr < AF < 24hr\n",
        "admissions.loc[admissions['admissionid'].isin(include_admissionid), 'patientid'].nunique()"
      ],
      "execution_count": 14,
      "outputs": [
        {
          "output_type": "execute_result",
          "data": {
            "text/plain": [
              "3073"
            ]
          },
          "metadata": {
            "tags": []
          },
          "execution_count": 14
        }
      ]
    },
    {
      "cell_type": "code",
      "metadata": {
        "colab": {
          "base_uri": "https://localhost:8080/"
        },
        "id": "fPfeT1PXZeTp",
        "outputId": "015f3285-aaef-4e71-9a0a-4b243f417333"
      },
      "source": [
        "exclude_admissionid = af.loc[af_exclusion_tf, 'admissionid']\n",
        "include_admissionid = include_admissionid[~include_admissionid.isin(exclude_admissionid)]\n",
        "# Total number of AF patients with no AF < 0hr\n",
        "admissions.loc[admissions['admissionid'].isin(include_admissionid), 'patientid'].nunique()"
      ],
      "execution_count": 15,
      "outputs": [
        {
          "output_type": "execute_result",
          "data": {
            "text/plain": [
              "2790"
            ]
          },
          "metadata": {
            "tags": []
          },
          "execution_count": 15
        }
      ]
    },
    {
      "cell_type": "code",
      "metadata": {
        "colab": {
          "base_uri": "https://localhost:8080/"
        },
        "id": "Jc0L3RQ0empt",
        "outputId": "5870b575-6259-4c6d-a4f2-27740b0283d3"
      },
      "source": [
        "admissions.loc[admissions['admissionid'].isin(include_admissionid) & admissions['admissioncount'] == 1, 'admissionid'].nunique()"
      ],
      "execution_count": 16,
      "outputs": [
        {
          "output_type": "execute_result",
          "data": {
            "text/plain": [
              "2683"
            ]
          },
          "metadata": {
            "tags": []
          },
          "execution_count": 16
        }
      ]
    },
    {
      "cell_type": "markdown",
      "metadata": {
        "id": "qc4V8LrIp_UV"
      },
      "source": [
        "**Admission diagnoses**"
      ]
    },
    {
      "cell_type": "code",
      "metadata": {
        "colab": {
          "base_uri": "https://localhost:8080/",
          "height": 564
        },
        "id": "YBiPNDgVqFvB",
        "outputId": "a9f84cef-1464-4da4-9ab8-03320cf7d896"
      },
      "source": [
        "combined_diagnoses = pd.read_gbq(diagnoses_sql, configuration = config_gbq)\n",
        "combined_diagnoses.head()"
      ],
      "execution_count": 17,
      "outputs": [
        {
          "output_type": "execute_result",
          "data": {
            "text/html": [
              "<div>\n",
              "<style scoped>\n",
              "    .dataframe tbody tr th:only-of-type {\n",
              "        vertical-align: middle;\n",
              "    }\n",
              "\n",
              "    .dataframe tbody tr th {\n",
              "        vertical-align: top;\n",
              "    }\n",
              "\n",
              "    .dataframe thead th {\n",
              "        text-align: right;\n",
              "    }\n",
              "</style>\n",
              "<table border=\"1\" class=\"dataframe\">\n",
              "  <thead>\n",
              "    <tr style=\"text-align: right;\">\n",
              "      <th></th>\n",
              "      <th>patientid</th>\n",
              "      <th>admissionid</th>\n",
              "      <th>admissioncount</th>\n",
              "      <th>location</th>\n",
              "      <th>urgency</th>\n",
              "      <th>origin</th>\n",
              "      <th>admittedat</th>\n",
              "      <th>admissionyeargroup</th>\n",
              "      <th>dischargedat</th>\n",
              "      <th>lengthofstay</th>\n",
              "      <th>destination</th>\n",
              "      <th>gender</th>\n",
              "      <th>agegroup</th>\n",
              "      <th>dateofdeath</th>\n",
              "      <th>weightgroup</th>\n",
              "      <th>weightsource</th>\n",
              "      <th>heightgroup</th>\n",
              "      <th>heightsource</th>\n",
              "      <th>specialty</th>\n",
              "      <th>diagnosis_type</th>\n",
              "      <th>diagnosis</th>\n",
              "      <th>diagnosis_id</th>\n",
              "      <th>diagnosis_subgroup</th>\n",
              "      <th>diagnosis_subgroup_id</th>\n",
              "      <th>diagnosis_group</th>\n",
              "      <th>diagnosis_group_id</th>\n",
              "      <th>surgical</th>\n",
              "      <th>sepsis_at_admission</th>\n",
              "      <th>sepsis_antibiotics_bool</th>\n",
              "      <th>sepsis_antibiotics_given</th>\n",
              "      <th>other_antibiotics_bool</th>\n",
              "      <th>other_antibiotics_given</th>\n",
              "      <th>sepsis_cultures_bool</th>\n",
              "      <th>sepsis_cultures_drawn</th>\n",
              "    </tr>\n",
              "  </thead>\n",
              "  <tbody>\n",
              "    <tr>\n",
              "      <th>0</th>\n",
              "      <td>3724</td>\n",
              "      <td>4291</td>\n",
              "      <td>2</td>\n",
              "      <td>IC</td>\n",
              "      <td>1</td>\n",
              "      <td>Special/Medium care zelfde ziekenhuis</td>\n",
              "      <td>18900000</td>\n",
              "      <td>2010-2016</td>\n",
              "      <td>437940000</td>\n",
              "      <td>117</td>\n",
              "      <td>None</td>\n",
              "      <td>Man</td>\n",
              "      <td>70-79</td>\n",
              "      <td>NaN</td>\n",
              "      <td>90-99</td>\n",
              "      <td>None</td>\n",
              "      <td>170-179</td>\n",
              "      <td>None</td>\n",
              "      <td>Neurochirurgie</td>\n",
              "      <td>NICE APACHE IV</td>\n",
              "      <td>Non-operative neurologic - Seizures (primary-n...</td>\n",
              "      <td>143.0</td>\n",
              "      <td>Vasculair chirurgisch</td>\n",
              "      <td>1.0</td>\n",
              "      <td>Non-operative neurologic - Seizures (primary-n...</td>\n",
              "      <td>143.0</td>\n",
              "      <td>0.0</td>\n",
              "      <td>0.0</td>\n",
              "      <td>NaN</td>\n",
              "      <td>None</td>\n",
              "      <td>NaN</td>\n",
              "      <td>None</td>\n",
              "      <td>NaN</td>\n",
              "      <td>None</td>\n",
              "    </tr>\n",
              "    <tr>\n",
              "      <th>1</th>\n",
              "      <td>338</td>\n",
              "      <td>385</td>\n",
              "      <td>1</td>\n",
              "      <td>IC</td>\n",
              "      <td>1</td>\n",
              "      <td>Eerste Hulp afdeling zelfde ziekenhuis</td>\n",
              "      <td>0</td>\n",
              "      <td>2010-2016</td>\n",
              "      <td>69840000</td>\n",
              "      <td>19</td>\n",
              "      <td>2</td>\n",
              "      <td>Man</td>\n",
              "      <td>18-39</td>\n",
              "      <td>NaN</td>\n",
              "      <td>None</td>\n",
              "      <td>None</td>\n",
              "      <td>None</td>\n",
              "      <td>None</td>\n",
              "      <td>Inwendig</td>\n",
              "      <td>NICE APACHE IV</td>\n",
              "      <td>Non-operative neurologic - Overdose, other tox...</td>\n",
              "      <td>139.0</td>\n",
              "      <td>Overige</td>\n",
              "      <td>8.0</td>\n",
              "      <td>Non-operative neurologic - Overdose, other tox...</td>\n",
              "      <td>139.0</td>\n",
              "      <td>0.0</td>\n",
              "      <td>0.0</td>\n",
              "      <td>NaN</td>\n",
              "      <td>None</td>\n",
              "      <td>NaN</td>\n",
              "      <td>None</td>\n",
              "      <td>NaN</td>\n",
              "      <td>None</td>\n",
              "    </tr>\n",
              "    <tr>\n",
              "      <th>2</th>\n",
              "      <td>398</td>\n",
              "      <td>461</td>\n",
              "      <td>3</td>\n",
              "      <td>IC</td>\n",
              "      <td>1</td>\n",
              "      <td>Verpleegafdeling zelfde ziekenhuis</td>\n",
              "      <td>51306240000</td>\n",
              "      <td>2010-2016</td>\n",
              "      <td>51337320000</td>\n",
              "      <td>8</td>\n",
              "      <td>2</td>\n",
              "      <td>Man</td>\n",
              "      <td>70-79</td>\n",
              "      <td>5.160114e+10</td>\n",
              "      <td>None</td>\n",
              "      <td>None</td>\n",
              "      <td>None</td>\n",
              "      <td>None</td>\n",
              "      <td>Heelkunde Gastro-enterologie</td>\n",
              "      <td>NICE APACHE IV</td>\n",
              "      <td>Post-operative gastro-intestinal - Complicatio...</td>\n",
              "      <td>296.0</td>\n",
              "      <td>Buikchirurgie</td>\n",
              "      <td>9.0</td>\n",
              "      <td>Post-operative gastro-intestinal - Complicatio...</td>\n",
              "      <td>296.0</td>\n",
              "      <td>1.0</td>\n",
              "      <td>NaN</td>\n",
              "      <td>NaN</td>\n",
              "      <td>None</td>\n",
              "      <td>NaN</td>\n",
              "      <td>None</td>\n",
              "      <td>NaN</td>\n",
              "      <td>None</td>\n",
              "    </tr>\n",
              "    <tr>\n",
              "      <th>3</th>\n",
              "      <td>451</td>\n",
              "      <td>517</td>\n",
              "      <td>1</td>\n",
              "      <td>IC</td>\n",
              "      <td>1</td>\n",
              "      <td>Eerste Hulp afdeling zelfde ziekenhuis</td>\n",
              "      <td>0</td>\n",
              "      <td>2010-2016</td>\n",
              "      <td>103680000</td>\n",
              "      <td>29</td>\n",
              "      <td>2</td>\n",
              "      <td>Man</td>\n",
              "      <td>18-39</td>\n",
              "      <td>NaN</td>\n",
              "      <td>70-79</td>\n",
              "      <td>None</td>\n",
              "      <td>170-179</td>\n",
              "      <td>None</td>\n",
              "      <td>Traumatologie</td>\n",
              "      <td>NICE APACHE IV</td>\n",
              "      <td>Non-operative respiratory - Obstruction-airway...</td>\n",
              "      <td>161.0</td>\n",
              "      <td>Pulmonaal</td>\n",
              "      <td>2.0</td>\n",
              "      <td>Non-operative respiratory - Obstruction-airway...</td>\n",
              "      <td>161.0</td>\n",
              "      <td>0.0</td>\n",
              "      <td>0.0</td>\n",
              "      <td>1.0</td>\n",
              "      <td>Ceftriaxon (Rocephin)</td>\n",
              "      <td>NaN</td>\n",
              "      <td>None</td>\n",
              "      <td>NaN</td>\n",
              "      <td>None</td>\n",
              "    </tr>\n",
              "    <tr>\n",
              "      <th>4</th>\n",
              "      <td>2419</td>\n",
              "      <td>2803</td>\n",
              "      <td>1</td>\n",
              "      <td>MC</td>\n",
              "      <td>1</td>\n",
              "      <td>Verpleegafdeling zelfde ziekenhuis</td>\n",
              "      <td>0</td>\n",
              "      <td>2010-2016</td>\n",
              "      <td>228060000</td>\n",
              "      <td>63</td>\n",
              "      <td>2</td>\n",
              "      <td>Man</td>\n",
              "      <td>18-39</td>\n",
              "      <td>NaN</td>\n",
              "      <td>100-109</td>\n",
              "      <td>None</td>\n",
              "      <td>190+</td>\n",
              "      <td>None</td>\n",
              "      <td>Traumatologie</td>\n",
              "      <td>NICE APACHE IV</td>\n",
              "      <td>Non-operative trauma - Extremity only trauma</td>\n",
              "      <td>198.0</td>\n",
              "      <td>Traumatologie</td>\n",
              "      <td>5.0</td>\n",
              "      <td>Non-operative trauma - Extremity only trauma</td>\n",
              "      <td>198.0</td>\n",
              "      <td>0.0</td>\n",
              "      <td>0.0</td>\n",
              "      <td>NaN</td>\n",
              "      <td>None</td>\n",
              "      <td>NaN</td>\n",
              "      <td>None</td>\n",
              "      <td>NaN</td>\n",
              "      <td>None</td>\n",
              "    </tr>\n",
              "  </tbody>\n",
              "</table>\n",
              "</div>"
            ],
            "text/plain": [
              "   patientid  admissionid  ...  sepsis_cultures_bool sepsis_cultures_drawn\n",
              "0       3724         4291  ...                   NaN                  None\n",
              "1        338          385  ...                   NaN                  None\n",
              "2        398          461  ...                   NaN                  None\n",
              "3        451          517  ...                   NaN                  None\n",
              "4       2419         2803  ...                   NaN                  None\n",
              "\n",
              "[5 rows x 34 columns]"
            ]
          },
          "metadata": {
            "tags": []
          },
          "execution_count": 17
        }
      ]
    },
    {
      "cell_type": "code",
      "metadata": {
        "colab": {
          "base_uri": "https://localhost:8080/"
        },
        "id": "ddz20O6Sg2WN",
        "outputId": "42bad735-ffe6-48e3-c5b1-e8cde881621e"
      },
      "source": [
        "combined_diagnoses['patientid'].nunique()"
      ],
      "execution_count": 36,
      "outputs": [
        {
          "output_type": "execute_result",
          "data": {
            "text/plain": [
              "20109"
            ]
          },
          "metadata": {
            "tags": []
          },
          "execution_count": 36
        }
      ]
    },
    {
      "cell_type": "markdown",
      "metadata": {
        "id": "fMZd5OdGer5O"
      },
      "source": [
        "**Identify subset of patients with AF**"
      ]
    },
    {
      "cell_type": "code",
      "metadata": {
        "colab": {
          "base_uri": "https://localhost:8080/",
          "height": 564
        },
        "id": "W00B-2u3bfWC",
        "outputId": "798a594d-c697-4823-e5c4-0eb489b8d220"
      },
      "source": [
        "af_admission = combined_diagnoses.loc[combined_diagnoses['admissionid'].isin(include_admissionid) & combined_diagnoses['admissioncount'] == 1, :]\n",
        "print(af_admission.shape)\n",
        "af_admission.head()"
      ],
      "execution_count": 18,
      "outputs": [
        {
          "output_type": "stream",
          "text": [
            "(2683, 34)\n"
          ],
          "name": "stdout"
        },
        {
          "output_type": "execute_result",
          "data": {
            "text/html": [
              "<div>\n",
              "<style scoped>\n",
              "    .dataframe tbody tr th:only-of-type {\n",
              "        vertical-align: middle;\n",
              "    }\n",
              "\n",
              "    .dataframe tbody tr th {\n",
              "        vertical-align: top;\n",
              "    }\n",
              "\n",
              "    .dataframe thead th {\n",
              "        text-align: right;\n",
              "    }\n",
              "</style>\n",
              "<table border=\"1\" class=\"dataframe\">\n",
              "  <thead>\n",
              "    <tr style=\"text-align: right;\">\n",
              "      <th></th>\n",
              "      <th>patientid</th>\n",
              "      <th>admissionid</th>\n",
              "      <th>admissioncount</th>\n",
              "      <th>location</th>\n",
              "      <th>urgency</th>\n",
              "      <th>origin</th>\n",
              "      <th>admittedat</th>\n",
              "      <th>admissionyeargroup</th>\n",
              "      <th>dischargedat</th>\n",
              "      <th>lengthofstay</th>\n",
              "      <th>destination</th>\n",
              "      <th>gender</th>\n",
              "      <th>agegroup</th>\n",
              "      <th>dateofdeath</th>\n",
              "      <th>weightgroup</th>\n",
              "      <th>weightsource</th>\n",
              "      <th>heightgroup</th>\n",
              "      <th>heightsource</th>\n",
              "      <th>specialty</th>\n",
              "      <th>diagnosis_type</th>\n",
              "      <th>diagnosis</th>\n",
              "      <th>diagnosis_id</th>\n",
              "      <th>diagnosis_subgroup</th>\n",
              "      <th>diagnosis_subgroup_id</th>\n",
              "      <th>diagnosis_group</th>\n",
              "      <th>diagnosis_group_id</th>\n",
              "      <th>surgical</th>\n",
              "      <th>sepsis_at_admission</th>\n",
              "      <th>sepsis_antibiotics_bool</th>\n",
              "      <th>sepsis_antibiotics_given</th>\n",
              "      <th>other_antibiotics_bool</th>\n",
              "      <th>other_antibiotics_given</th>\n",
              "      <th>sepsis_cultures_bool</th>\n",
              "      <th>sepsis_cultures_drawn</th>\n",
              "    </tr>\n",
              "  </thead>\n",
              "  <tbody>\n",
              "    <tr>\n",
              "      <th>9</th>\n",
              "      <td>4237</td>\n",
              "      <td>4869</td>\n",
              "      <td>1</td>\n",
              "      <td>MC</td>\n",
              "      <td>1</td>\n",
              "      <td>Eerste Hulp afdeling ander ziekenhuis</td>\n",
              "      <td>0</td>\n",
              "      <td>2010-2016</td>\n",
              "      <td>242520000</td>\n",
              "      <td>67</td>\n",
              "      <td>2</td>\n",
              "      <td>Man</td>\n",
              "      <td>80+</td>\n",
              "      <td>1.659060e+09</td>\n",
              "      <td>59-</td>\n",
              "      <td>None</td>\n",
              "      <td>180-189</td>\n",
              "      <td>None</td>\n",
              "      <td>Maag-,Darm-,Leverziekten</td>\n",
              "      <td>NICE APACHE IV</td>\n",
              "      <td>Non-operative Gastro-intestinal - Bleeding, up...</td>\n",
              "      <td>51.0</td>\n",
              "      <td>Abdominaal</td>\n",
              "      <td>3.0</td>\n",
              "      <td>Non-operative Gastro-intestinal - Bleeding, up...</td>\n",
              "      <td>51.0</td>\n",
              "      <td>0.0</td>\n",
              "      <td>0.0</td>\n",
              "      <td>NaN</td>\n",
              "      <td>None</td>\n",
              "      <td>NaN</td>\n",
              "      <td>None</td>\n",
              "      <td>NaN</td>\n",
              "      <td>None</td>\n",
              "    </tr>\n",
              "    <tr>\n",
              "      <th>16</th>\n",
              "      <td>11146</td>\n",
              "      <td>12916</td>\n",
              "      <td>1</td>\n",
              "      <td>IC</td>\n",
              "      <td>1</td>\n",
              "      <td>Eerste Hulp afdeling zelfde ziekenhuis</td>\n",
              "      <td>0</td>\n",
              "      <td>2010-2016</td>\n",
              "      <td>9840000</td>\n",
              "      <td>3</td>\n",
              "      <td>2</td>\n",
              "      <td>Man</td>\n",
              "      <td>70-79</td>\n",
              "      <td>1.866000e+07</td>\n",
              "      <td>None</td>\n",
              "      <td>None</td>\n",
              "      <td>None</td>\n",
              "      <td>None</td>\n",
              "      <td>None</td>\n",
              "      <td>NICE APACHE IV</td>\n",
              "      <td>Non-operative neurologic - Nontraumatic coma d...</td>\n",
              "      <td>135.0</td>\n",
              "      <td>Vasculair neurologisch</td>\n",
              "      <td>1.0</td>\n",
              "      <td>Non-operative neurologic - Nontraumatic coma d...</td>\n",
              "      <td>135.0</td>\n",
              "      <td>0.0</td>\n",
              "      <td>0.0</td>\n",
              "      <td>NaN</td>\n",
              "      <td>None</td>\n",
              "      <td>NaN</td>\n",
              "      <td>None</td>\n",
              "      <td>NaN</td>\n",
              "      <td>None</td>\n",
              "    </tr>\n",
              "    <tr>\n",
              "      <th>20</th>\n",
              "      <td>17323</td>\n",
              "      <td>20071</td>\n",
              "      <td>1</td>\n",
              "      <td>IC</td>\n",
              "      <td>1</td>\n",
              "      <td>Eerste Hulp afdeling ander ziekenhuis</td>\n",
              "      <td>0</td>\n",
              "      <td>2010-2016</td>\n",
              "      <td>35400000</td>\n",
              "      <td>10</td>\n",
              "      <td>2</td>\n",
              "      <td>Vrouw</td>\n",
              "      <td>70-79</td>\n",
              "      <td>NaN</td>\n",
              "      <td>60-69</td>\n",
              "      <td>None</td>\n",
              "      <td>160-169</td>\n",
              "      <td>None</td>\n",
              "      <td>Longziekte</td>\n",
              "      <td>NICE APACHE IV</td>\n",
              "      <td>Non-operative respiratory - Smoke inhalation</td>\n",
              "      <td>171.0</td>\n",
              "      <td>Traumatologie</td>\n",
              "      <td>5.0</td>\n",
              "      <td>Non-operative respiratory - Smoke inhalation</td>\n",
              "      <td>171.0</td>\n",
              "      <td>0.0</td>\n",
              "      <td>0.0</td>\n",
              "      <td>NaN</td>\n",
              "      <td>None</td>\n",
              "      <td>NaN</td>\n",
              "      <td>None</td>\n",
              "      <td>NaN</td>\n",
              "      <td>None</td>\n",
              "    </tr>\n",
              "    <tr>\n",
              "      <th>32</th>\n",
              "      <td>18430</td>\n",
              "      <td>21345</td>\n",
              "      <td>1</td>\n",
              "      <td>IC&amp;MC</td>\n",
              "      <td>1</td>\n",
              "      <td>Eerste Hulp afdeling ander ziekenhuis</td>\n",
              "      <td>0</td>\n",
              "      <td>2010-2016</td>\n",
              "      <td>1248600000</td>\n",
              "      <td>347</td>\n",
              "      <td>3</td>\n",
              "      <td>Vrouw</td>\n",
              "      <td>60-69</td>\n",
              "      <td>NaN</td>\n",
              "      <td>60-69</td>\n",
              "      <td>None</td>\n",
              "      <td>160-169</td>\n",
              "      <td>None</td>\n",
              "      <td>Heelkunde Gastro-enterologie</td>\n",
              "      <td>NICE APACHE IV</td>\n",
              "      <td>Post-operative gastro-intestinal - Esophageal ...</td>\n",
              "      <td>298.0</td>\n",
              "      <td>Buikchirurgie</td>\n",
              "      <td>9.0</td>\n",
              "      <td>Post-operative gastro-intestinal - Esophageal ...</td>\n",
              "      <td>298.0</td>\n",
              "      <td>1.0</td>\n",
              "      <td>0.0</td>\n",
              "      <td>NaN</td>\n",
              "      <td>None</td>\n",
              "      <td>1.0</td>\n",
              "      <td>Metronidazol (Flagyl)</td>\n",
              "      <td>NaN</td>\n",
              "      <td>None</td>\n",
              "    </tr>\n",
              "    <tr>\n",
              "      <th>100</th>\n",
              "      <td>6582</td>\n",
              "      <td>7639</td>\n",
              "      <td>1</td>\n",
              "      <td>IC</td>\n",
              "      <td>0</td>\n",
              "      <td>CCU/IC zelfde ziekenhuis</td>\n",
              "      <td>0</td>\n",
              "      <td>2010-2016</td>\n",
              "      <td>740640000</td>\n",
              "      <td>206</td>\n",
              "      <td>9</td>\n",
              "      <td>Man</td>\n",
              "      <td>70-79</td>\n",
              "      <td>1.129080e+09</td>\n",
              "      <td>None</td>\n",
              "      <td>None</td>\n",
              "      <td>None</td>\n",
              "      <td>None</td>\n",
              "      <td>Cardiologie</td>\n",
              "      <td>NICE APACHE IV</td>\n",
              "      <td>Non-operative cardiovascular - Shock, cardiogenic</td>\n",
              "      <td>41.0</td>\n",
              "      <td>Cardiovasculair</td>\n",
              "      <td>1.0</td>\n",
              "      <td>Non-operative cardiovascular - Shock, cardiogenic</td>\n",
              "      <td>41.0</td>\n",
              "      <td>0.0</td>\n",
              "      <td>0.0</td>\n",
              "      <td>NaN</td>\n",
              "      <td>None</td>\n",
              "      <td>NaN</td>\n",
              "      <td>None</td>\n",
              "      <td>NaN</td>\n",
              "      <td>None</td>\n",
              "    </tr>\n",
              "  </tbody>\n",
              "</table>\n",
              "</div>"
            ],
            "text/plain": [
              "     patientid  admissionid  ...  sepsis_cultures_bool sepsis_cultures_drawn\n",
              "9         4237         4869  ...                   NaN                  None\n",
              "16       11146        12916  ...                   NaN                  None\n",
              "20       17323        20071  ...                   NaN                  None\n",
              "32       18430        21345  ...                   NaN                  None\n",
              "100       6582         7639  ...                   NaN                  None\n",
              "\n",
              "[5 rows x 34 columns]"
            ]
          },
          "metadata": {
            "tags": []
          },
          "execution_count": 18
        }
      ]
    },
    {
      "cell_type": "markdown",
      "metadata": {
        "id": "yai0LFTNmBg0"
      },
      "source": [
        "**Identify cardio-thoracic patients**"
      ]
    },
    {
      "cell_type": "code",
      "metadata": {
        "colab": {
          "base_uri": "https://localhost:8080/"
        },
        "id": "vSpDcHb2nebY",
        "outputId": "5da2405f-7e9e-4c3b-b4ce-b08b321b4b5b"
      },
      "source": [
        "af_admission['is_cardiothoracic'] = af_admission['specialty'].isin(['Cardiochirurgie', 'Cardiologie'])\n",
        "# Number of patients from cardiology or cardiac surgery\n",
        "af_admission['is_cardiothoracic'].sum()"
      ],
      "execution_count": 19,
      "outputs": [
        {
          "output_type": "stream",
          "text": [
            "/usr/local/lib/python3.7/dist-packages/ipykernel_launcher.py:1: SettingWithCopyWarning: \n",
            "A value is trying to be set on a copy of a slice from a DataFrame.\n",
            "Try using .loc[row_indexer,col_indexer] = value instead\n",
            "\n",
            "See the caveats in the documentation: https://pandas.pydata.org/pandas-docs/stable/user_guide/indexing.html#returning-a-view-versus-a-copy\n",
            "  \"\"\"Entry point for launching an IPython kernel.\n"
          ],
          "name": "stderr"
        },
        {
          "output_type": "execute_result",
          "data": {
            "text/plain": [
              "1153"
            ]
          },
          "metadata": {
            "tags": []
          },
          "execution_count": 19
        }
      ]
    },
    {
      "cell_type": "code",
      "metadata": {
        "colab": {
          "base_uri": "https://localhost:8080/"
        },
        "id": "Chd1L1pdkacJ",
        "outputId": "5a0720d9-ddba-4186-bf7b-635a58d41782"
      },
      "source": [
        "# Number of patients with emergency (unplanned) cardiothoracic admission\n",
        "(af_admission['is_cardiothoracic'] & af_admission['urgency']).sum()"
      ],
      "execution_count": 20,
      "outputs": [
        {
          "output_type": "execute_result",
          "data": {
            "text/plain": [
              "307"
            ]
          },
          "metadata": {
            "tags": []
          },
          "execution_count": 20
        }
      ]
    },
    {
      "cell_type": "code",
      "metadata": {
        "id": "Z9J0gLuvpaXo"
      },
      "source": [
        "re_cardiosurg = r'(CABG|AVR|hartchirurgie|heart surgery|Chron. cardiovasculaire ziekte|hartkleppen' + \\\n",
        "r'|cardiovascula|MVP|MVR|mitral|tricuspid|pericard|aortic.*valve|lobectom|segment|thorax|Bentall|aorta-ascendens|aorta-boog' + \\\n",
        "r'|aorta-wortel|aorta-descendens|lung|pneumectomie|bullectom|respiratoir neoplasm|thoracoscop|thoracotom(y|ie)|respirato' + \\\n",
        "r'|vrije wand ruptuur|VSR|ASD|pleurectom|intracardiac|aneurysmectom|congenital defect repair)(?! for esophag)'\n",
        "re_cardiosurg = r'(CABG|AVR|MVP|MVR|valve)'"
      ],
      "execution_count": 21,
      "outputs": []
    },
    {
      "cell_type": "code",
      "metadata": {
        "colab": {
          "base_uri": "https://localhost:8080/"
        },
        "id": "0et_D5Rup6pX",
        "outputId": "525a24bf-ff89-47d2-9306-cce0e209dd64"
      },
      "source": [
        "cardiosurg = af_admission[\n",
        "    (af_admission['surgical'] == 1) \n",
        "    & (af_admission['diagnosis'].str.contains(re_cardiosurg, na=False, flags=re.IGNORECASE))]\n",
        "cardiosurg.loc[:, 'diagnosis'].size"
      ],
      "execution_count": 22,
      "outputs": [
        {
          "output_type": "stream",
          "text": [
            "/usr/local/lib/python3.7/dist-packages/pandas/core/strings.py:2001: UserWarning: This pattern has match groups. To actually get the groups, use str.extract.\n",
            "  return func(self, *args, **kwargs)\n"
          ],
          "name": "stderr"
        },
        {
          "output_type": "execute_result",
          "data": {
            "text/plain": [
              "453"
            ]
          },
          "metadata": {
            "tags": []
          },
          "execution_count": 22
        }
      ]
    },
    {
      "cell_type": "code",
      "metadata": {
        "colab": {
          "base_uri": "https://localhost:8080/"
        },
        "id": "ZyUcKH-WqfZS",
        "outputId": "63e1f026-8803-4d2a-985c-c2be262a9e17"
      },
      "source": [
        "# cardiosurg['diagnosis'].value_counts()\n",
        "af_admission['is_cardiosurg'] = af_admission['patientid'].isin(cardiosurg['patientid'])\n",
        "# Patients who have CBAG / valve surgery (from cardiology or cardiac surgery)\n",
        "(af_admission['is_cardiothoracic'] & af_admission['is_cardiosurg']).sum()"
      ],
      "execution_count": 23,
      "outputs": [
        {
          "output_type": "stream",
          "text": [
            "/usr/local/lib/python3.7/dist-packages/ipykernel_launcher.py:2: SettingWithCopyWarning: \n",
            "A value is trying to be set on a copy of a slice from a DataFrame.\n",
            "Try using .loc[row_indexer,col_indexer] = value instead\n",
            "\n",
            "See the caveats in the documentation: https://pandas.pydata.org/pandas-docs/stable/user_guide/indexing.html#returning-a-view-versus-a-copy\n",
            "  \n"
          ],
          "name": "stderr"
        },
        {
          "output_type": "execute_result",
          "data": {
            "text/plain": [
              "452"
            ]
          },
          "metadata": {
            "tags": []
          },
          "execution_count": 23
        }
      ]
    },
    {
      "cell_type": "code",
      "metadata": {
        "colab": {
          "base_uri": "https://localhost:8080/"
        },
        "id": "EV1sn7Eck3qA",
        "outputId": "97afb570-d1c6-4f41-ea54-d207e2486a98"
      },
      "source": [
        "# Number with emergency CABG/valve surgery + NOAF\n",
        "(af_admission['is_cardiosurg'] & af_admission['urgency']).sum()"
      ],
      "execution_count": 24,
      "outputs": [
        {
          "output_type": "execute_result",
          "data": {
            "text/plain": [
              "25"
            ]
          },
          "metadata": {
            "tags": []
          },
          "execution_count": 24
        }
      ]
    },
    {
      "cell_type": "code",
      "metadata": {
        "colab": {
          "base_uri": "https://localhost:8080/"
        },
        "id": "oEJuJ3W6hDck",
        "outputId": "d318e47f-9501-48a6-a3f3-9d20d9edc25d"
      },
      "source": [
        "# Number with CABG/valve surgery, all patients\n",
        "combined_diagnoses.loc[(combined_diagnoses['surgical'] == 1) & (combined_diagnoses['diagnosis'].str.contains(re_cardiosurg, na=False, flags=re.IGNORECASE)), 'patientid'].nunique()"
      ],
      "execution_count": 83,
      "outputs": [
        {
          "output_type": "stream",
          "text": [
            "/usr/local/lib/python3.7/dist-packages/pandas/core/strings.py:2001: UserWarning: This pattern has match groups. To actually get the groups, use str.extract.\n",
            "  return func(self, *args, **kwargs)\n"
          ],
          "name": "stderr"
        },
        {
          "output_type": "execute_result",
          "data": {
            "text/plain": [
              "4768"
            ]
          },
          "metadata": {
            "tags": []
          },
          "execution_count": 83
        }
      ]
    },
    {
      "cell_type": "code",
      "metadata": {
        "colab": {
          "base_uri": "https://localhost:8080/"
        },
        "id": "7Q-dRPByhk3l",
        "outputId": "738500ee-fb00-4027-c54d-5bad77d482a9"
      },
      "source": [
        "combined_diagnoses.loc[combined_diagnoses['specialty'].isin(['Cardiochirurgie', 'Cardiologie']), 'patientid'].nunique()"
      ],
      "execution_count": 84,
      "outputs": [
        {
          "output_type": "execute_result",
          "data": {
            "text/plain": [
              "8367"
            ]
          },
          "metadata": {
            "tags": []
          },
          "execution_count": 84
        }
      ]
    },
    {
      "cell_type": "markdown",
      "metadata": {
        "id": "EkrH5yJNsg5g"
      },
      "source": [
        "**Identify patients with sepsis**"
      ]
    },
    {
      "cell_type": "code",
      "metadata": {
        "id": "yfoX925XtC-R"
      },
      "source": [
        "re_sepsis_surg = r'sepsis|pneumoni|GI perforation|perforation/rupture|infection|abscess|GI Vascular ischemia|diverticular|appendectomy|peritonitis'\n",
        "re_sepsis_med = r'sepsis|septic|infect|pneumoni|cholangitis|pancr|endocarditis|meningitis|GI perforation|abces|abscess|darm ischaemie|GI vascular|fasciitis' + \\\n",
        "r'|inflammatory|peritonitis'"
      ],
      "execution_count": 25,
      "outputs": []
    },
    {
      "cell_type": "code",
      "metadata": {
        "colab": {
          "base_uri": "https://localhost:8080/"
        },
        "id": "8o4BRZYvnSQM",
        "outputId": "2537c800-75ab-433b-a2f0-86fe99e0f036"
      },
      "source": [
        "# Sepsis for surgical reasons\n",
        "af_admission['sepsis_surgical'] = (af_admission['surgical'] == 1) & (af_admission['diagnosis'].str.contains(re_sepsis_surg, na=False, flags=re.IGNORECASE))\n",
        "af_admission['sepsis_surgical'] &= ~(af_admission['sepsis_at_admission'] == 0)\n",
        "af_admission['sepsis_surgical'].sum()"
      ],
      "execution_count": 26,
      "outputs": [
        {
          "output_type": "stream",
          "text": [
            "/usr/local/lib/python3.7/dist-packages/ipykernel_launcher.py:2: SettingWithCopyWarning: \n",
            "A value is trying to be set on a copy of a slice from a DataFrame.\n",
            "Try using .loc[row_indexer,col_indexer] = value instead\n",
            "\n",
            "See the caveats in the documentation: https://pandas.pydata.org/pandas-docs/stable/user_guide/indexing.html#returning-a-view-versus-a-copy\n",
            "  \n",
            "/usr/local/lib/python3.7/dist-packages/ipykernel_launcher.py:3: SettingWithCopyWarning: \n",
            "A value is trying to be set on a copy of a slice from a DataFrame.\n",
            "Try using .loc[row_indexer,col_indexer] = value instead\n",
            "\n",
            "See the caveats in the documentation: https://pandas.pydata.org/pandas-docs/stable/user_guide/indexing.html#returning-a-view-versus-a-copy\n",
            "  This is separate from the ipykernel package so we can avoid doing imports until\n"
          ],
          "name": "stderr"
        },
        {
          "output_type": "execute_result",
          "data": {
            "text/plain": [
              "22"
            ]
          },
          "metadata": {
            "tags": []
          },
          "execution_count": 26
        }
      ]
    },
    {
      "cell_type": "code",
      "metadata": {
        "colab": {
          "base_uri": "https://localhost:8080/"
        },
        "id": "5X_tffCw93EV",
        "outputId": "3dcb6fbb-611d-4aaa-86fa-858a918c5d1a"
      },
      "source": [
        "# Sepsis for surgical reasons + endocarditis\n",
        "(af_admission['sepsis_surgical'] & af_admission['diagnosis'].str.contains('endocarditis', na = False, flags = re.IGNORECASE)).sum()"
      ],
      "execution_count": 27,
      "outputs": [
        {
          "output_type": "execute_result",
          "data": {
            "text/plain": [
              "0"
            ]
          },
          "metadata": {
            "tags": []
          },
          "execution_count": 27
        }
      ]
    },
    {
      "cell_type": "code",
      "metadata": {
        "colab": {
          "base_uri": "https://localhost:8080/"
        },
        "id": "fBblXHxi05YZ",
        "outputId": "9b383e48-d45b-4fd9-bde7-861ce01241c7"
      },
      "source": [
        "af_admission['sepsis_admission'] = (af_admission['surgical'] == 0) & (af_admission['diagnosis'].str.contains(re_sepsis_med, na=False, flags=re.IGNORECASE))\n",
        "af_admission['sepsis_admission'] &= ~(af_admission['sepsis_at_admission'] == 0)\n",
        "af_admission['sepsis_admission'] |= (af_admission['sepsis_at_admission'] == 1)\n",
        "af_admission['sepsis_admission'].sum()"
      ],
      "execution_count": 28,
      "outputs": [
        {
          "output_type": "stream",
          "text": [
            "/usr/local/lib/python3.7/dist-packages/ipykernel_launcher.py:1: SettingWithCopyWarning: \n",
            "A value is trying to be set on a copy of a slice from a DataFrame.\n",
            "Try using .loc[row_indexer,col_indexer] = value instead\n",
            "\n",
            "See the caveats in the documentation: https://pandas.pydata.org/pandas-docs/stable/user_guide/indexing.html#returning-a-view-versus-a-copy\n",
            "  \"\"\"Entry point for launching an IPython kernel.\n",
            "/usr/local/lib/python3.7/dist-packages/ipykernel_launcher.py:2: SettingWithCopyWarning: \n",
            "A value is trying to be set on a copy of a slice from a DataFrame.\n",
            "Try using .loc[row_indexer,col_indexer] = value instead\n",
            "\n",
            "See the caveats in the documentation: https://pandas.pydata.org/pandas-docs/stable/user_guide/indexing.html#returning-a-view-versus-a-copy\n",
            "  \n",
            "/usr/local/lib/python3.7/dist-packages/ipykernel_launcher.py:3: SettingWithCopyWarning: \n",
            "A value is trying to be set on a copy of a slice from a DataFrame.\n",
            "Try using .loc[row_indexer,col_indexer] = value instead\n",
            "\n",
            "See the caveats in the documentation: https://pandas.pydata.org/pandas-docs/stable/user_guide/indexing.html#returning-a-view-versus-a-copy\n",
            "  This is separate from the ipykernel package so we can avoid doing imports until\n"
          ],
          "name": "stderr"
        },
        {
          "output_type": "execute_result",
          "data": {
            "text/plain": [
              "250"
            ]
          },
          "metadata": {
            "tags": []
          },
          "execution_count": 28
        }
      ]
    },
    {
      "cell_type": "code",
      "metadata": {
        "colab": {
          "base_uri": "https://localhost:8080/"
        },
        "id": "K1k2mdQ11L6b",
        "outputId": "43db366f-f1a6-4146-97ff-d50b5d067602"
      },
      "source": [
        "af_admission['sepsis_antibiotics'] = (af_admission['sepsis_antibiotics_bool'] == 1)\n",
        "af_admission['sepsis_antibiotics'] &= ~(af_admission['sepsis_at_admission'] == 0)\n",
        "af_admission['sepsis_antibiotics'].sum()"
      ],
      "execution_count": 29,
      "outputs": [
        {
          "output_type": "stream",
          "text": [
            "/usr/local/lib/python3.7/dist-packages/ipykernel_launcher.py:1: SettingWithCopyWarning: \n",
            "A value is trying to be set on a copy of a slice from a DataFrame.\n",
            "Try using .loc[row_indexer,col_indexer] = value instead\n",
            "\n",
            "See the caveats in the documentation: https://pandas.pydata.org/pandas-docs/stable/user_guide/indexing.html#returning-a-view-versus-a-copy\n",
            "  \"\"\"Entry point for launching an IPython kernel.\n",
            "/usr/local/lib/python3.7/dist-packages/ipykernel_launcher.py:2: SettingWithCopyWarning: \n",
            "A value is trying to be set on a copy of a slice from a DataFrame.\n",
            "Try using .loc[row_indexer,col_indexer] = value instead\n",
            "\n",
            "See the caveats in the documentation: https://pandas.pydata.org/pandas-docs/stable/user_guide/indexing.html#returning-a-view-versus-a-copy\n",
            "  \n"
          ],
          "name": "stderr"
        },
        {
          "output_type": "execute_result",
          "data": {
            "text/plain": [
              "480"
            ]
          },
          "metadata": {
            "tags": []
          },
          "execution_count": 29
        }
      ]
    },
    {
      "cell_type": "code",
      "metadata": {
        "colab": {
          "base_uri": "https://localhost:8080/"
        },
        "id": "NC7KbN5a1Wwi",
        "outputId": "454a962d-f58c-46d1-c539-dd97902f746d"
      },
      "source": [
        "af_admission['sepsis_culture'] = (af_admission['other_antibiotics_bool'] == 1) & (af_admission['sepsis_cultures_bool'] == 1)\n",
        "af_admission['sepsis_culture'] &= ~(af_admission['sepsis_at_admission'] == 0)\n",
        "af_admission['sepsis_culture'].sum()"
      ],
      "execution_count": 30,
      "outputs": [
        {
          "output_type": "stream",
          "text": [
            "/usr/local/lib/python3.7/dist-packages/ipykernel_launcher.py:1: SettingWithCopyWarning: \n",
            "A value is trying to be set on a copy of a slice from a DataFrame.\n",
            "Try using .loc[row_indexer,col_indexer] = value instead\n",
            "\n",
            "See the caveats in the documentation: https://pandas.pydata.org/pandas-docs/stable/user_guide/indexing.html#returning-a-view-versus-a-copy\n",
            "  \"\"\"Entry point for launching an IPython kernel.\n",
            "/usr/local/lib/python3.7/dist-packages/ipykernel_launcher.py:2: SettingWithCopyWarning: \n",
            "A value is trying to be set on a copy of a slice from a DataFrame.\n",
            "Try using .loc[row_indexer,col_indexer] = value instead\n",
            "\n",
            "See the caveats in the documentation: https://pandas.pydata.org/pandas-docs/stable/user_guide/indexing.html#returning-a-view-versus-a-copy\n",
            "  \n"
          ],
          "name": "stderr"
        },
        {
          "output_type": "execute_result",
          "data": {
            "text/plain": [
              "47"
            ]
          },
          "metadata": {
            "tags": []
          },
          "execution_count": 30
        }
      ]
    },
    {
      "cell_type": "code",
      "metadata": {
        "colab": {
          "base_uri": "https://localhost:8080/"
        },
        "id": "_XRgcFQZ1qgw",
        "outputId": "a522b1c9-fb73-44e4-fb49-10afb1690019"
      },
      "source": [
        "# All sepsis\n",
        "(af_admission['sepsis_surgical'] | af_admission['sepsis_admission'] | af_admission['sepsis_antibiotics'] | af_admission['sepsis_culture']).sum()"
      ],
      "execution_count": 50,
      "outputs": [
        {
          "output_type": "execute_result",
          "data": {
            "text/plain": [
              "559"
            ]
          },
          "metadata": {
            "tags": []
          },
          "execution_count": 50
        }
      ]
    },
    {
      "cell_type": "code",
      "metadata": {
        "colab": {
          "base_uri": "https://localhost:8080/"
        },
        "id": "lBcEZxE-9MJx",
        "outputId": "427212c0-7d3d-406c-eb64-ce4433ecbe7a"
      },
      "source": [
        "# Sepsis antibiotics / culture\n",
        "(af_admission['sepsis_antibiotics'] | af_admission['sepsis_culture']).sum()"
      ],
      "execution_count": 32,
      "outputs": [
        {
          "output_type": "execute_result",
          "data": {
            "text/plain": [
              "495"
            ]
          },
          "metadata": {
            "tags": []
          },
          "execution_count": 32
        }
      ]
    },
    {
      "cell_type": "code",
      "metadata": {
        "colab": {
          "base_uri": "https://localhost:8080/"
        },
        "id": "N_6o_B61-Rey",
        "outputId": "3e41d5da-40b3-4d1d-fa7b-56bda104f5bd"
      },
      "source": [
        "((af_admission['sepsis_antibiotics'] | af_admission['sepsis_culture']) & af_admission['sepsis_admission']).sum()"
      ],
      "execution_count": 33,
      "outputs": [
        {
          "output_type": "execute_result",
          "data": {
            "text/plain": [
              "186"
            ]
          },
          "metadata": {
            "tags": []
          },
          "execution_count": 33
        }
      ]
    },
    {
      "cell_type": "code",
      "metadata": {
        "colab": {
          "base_uri": "https://localhost:8080/"
        },
        "id": "R-gcQcqRladu",
        "outputId": "53836864-db9a-4008-b674-5d71027fc625"
      },
      "source": [
        "# Total sepsis\n",
        "combined_diagnoses.loc[\n",
        "    (\n",
        "        (\n",
        "            #use reasons for admission\n",
        "            #surgical admissions with sepsis\n",
        "            (combined_diagnoses['surgical'] == 1) \n",
        "            & (combined_diagnoses['diagnosis'].str.contains(re_sepsis_surg, na=False, flags=re.IGNORECASE))\n",
        "        # ) | (\n",
        "        #     #medical admissions with sepsis\n",
        "        #     (combined_diagnoses['surgical'] == 0) \n",
        "        #     & (combined_diagnoses['diagnosis'].str.contains(re_sepsis_med, na=False, flags=re.IGNORECASE))\n",
        "        # ) | (\n",
        "        #     #uses documentation at admission form (Early Goal Directed Therapy)\n",
        "        #     (combined_diagnoses['sepsis_at_admission'] == 1)\n",
        "        # ) | (\n",
        "        #     #uses administered (therapeutic) antibiotics for determining sepsis\n",
        "        #     (combined_diagnoses['sepsis_antibiotics_bool'] == 1)\n",
        "        # ) | (\n",
        "        #     #uses combination of administered antibiotics (that sometimes are used as prophylaxis) AND \n",
        "        #     #drawn cultures for determining sepsis\n",
        "        #     (combined_diagnoses['other_antibiotics_bool'] == 1) \n",
        "        #     & (combined_diagnoses['sepsis_cultures_bool'] == 1)\n",
        "        )\n",
        "    ) & ~(combined_diagnoses['sepsis_at_admission'] == 0)\n",
        "    #exclude all diagnoses where explicitly 'no sepsis' was documented\n",
        "    , 'patientid'].nunique()"
      ],
      "execution_count": 44,
      "outputs": [
        {
          "output_type": "execute_result",
          "data": {
            "text/plain": [
              "101"
            ]
          },
          "metadata": {
            "tags": []
          },
          "execution_count": 44
        }
      ]
    },
    {
      "cell_type": "markdown",
      "metadata": {
        "id": "j0IHWQ_c4MCz"
      },
      "source": [
        "**Both sepsis and CABG / valve surgery**"
      ]
    },
    {
      "cell_type": "code",
      "metadata": {
        "colab": {
          "base_uri": "https://localhost:8080/"
        },
        "id": "imzFkvdK4RfZ",
        "outputId": "26ea78be-d8df-42d5-b2ff-24722d243b28"
      },
      "source": [
        "((af_admission['sepsis_surgical'] | af_admission['sepsis_admission'] | af_admission['sepsis_antibiotics'] | af_admission['sepsis_culture']) & af_admission['is_cardiosurg']).sum()"
      ],
      "execution_count": 49,
      "outputs": [
        {
          "output_type": "execute_result",
          "data": {
            "text/plain": [
              "4"
            ]
          },
          "metadata": {
            "tags": []
          },
          "execution_count": 49
        }
      ]
    },
    {
      "cell_type": "markdown",
      "metadata": {
        "id": "zYVWxtok5RGC"
      },
      "source": [
        "# **Desciptive stats**"
      ]
    },
    {
      "cell_type": "code",
      "metadata": {
        "id": "B1-ZVf6h8BFF"
      },
      "source": [
        "ds_rows = ['No. patients']\n",
        "ds_rows += ['Age: ' + agegroup + ' %' for agegroup in af_admission['agegroup'].unique()]\n",
        "ds_rows += ['Female %', 'Male %', 'Urgency %', 'BMI *', 'BMI **']\n",
        "ds_rows += ['Weight >100kg %', 'Admission SOFA (to do)', 'From surgery %']\n",
        "#ds_rows += ['Chronic condition %'] # may not be possible\n",
        "ds_rows += ['ICU length of stay (days)']\n",
        "#ds_rows += ['Pre-ICU length of stay (days)'] # may not be possible\n",
        "ds_rows += ['Mortality %']\n",
        "\n",
        "ds_columns = ['All', 'Sepsis subset', 'CABG/valve subset']\n",
        "ds_columns += ['AF subset', 'AF+Sepsis', 'AF+CABG/valve']\n",
        "\n",
        "table = pd.DataFrame(None, columns = ds_columns, index = ds_rows)\n"
      ],
      "execution_count": 104,
      "outputs": []
    },
    {
      "cell_type": "code",
      "metadata": {
        "colab": {
          "base_uri": "https://localhost:8080/"
        },
        "id": "BRw3dcG_AYJV",
        "outputId": "b12936c2-b5e2-47a5-fab3-18dd835e57d1"
      },
      "source": [
        "weight_mean_dict = {'59-': 59, '60-69': 65, '70-79': 75, '80-89': 85, '90-99': 95, '100-109': 105, '110+': 110}\n",
        "weight_max_dict = {'59-': 59, '60-69': 69, '70-79': 79, '80-89': 89, '90-99': 99, '100-109': 109, '110+': 110}\n",
        "height_mean_dict = {'159-': 1.59, '160-169': 1.65, '170-179': 1.75, '180-189': 1.85, '190+': 1.90}\n",
        "height_min_dict = {'159-': 1.59, '160-169': 1.60, '170-179': 1.70, '180-189': 1.80, '190+': 1.90}\n",
        "\n",
        "combined_diagnoses['weightmean'] = combined_diagnoses['weightgroup'].copy().replace(weight_mean_dict)\n",
        "combined_diagnoses['weightmax'] = combined_diagnoses['weightgroup'].copy().replace(weight_max_dict)\n",
        "combined_diagnoses['heightmean'] = combined_diagnoses['heightgroup'].copy().replace(height_mean_dict)\n",
        "combined_diagnoses['heightmin'] = combined_diagnoses['heightgroup'].copy().replace(height_min_dict)\n",
        "\n",
        "af_admission['weightmean'] = af_admission['weightgroup'].copy().replace(weight_mean_dict)\n",
        "af_admission['weightmax'] = af_admission['weightgroup'].copy().replace(weight_max_dict)\n",
        "af_admission['heightmean'] = af_admission['heightgroup'].copy().replace(height_mean_dict)\n",
        "af_admission['heightmin'] = af_admission['heightgroup'].copy().replace(height_min_dict)"
      ],
      "execution_count": 78,
      "outputs": [
        {
          "output_type": "stream",
          "text": [
            "/usr/local/lib/python3.7/dist-packages/ipykernel_launcher.py:11: SettingWithCopyWarning: \n",
            "A value is trying to be set on a copy of a slice from a DataFrame.\n",
            "Try using .loc[row_indexer,col_indexer] = value instead\n",
            "\n",
            "See the caveats in the documentation: https://pandas.pydata.org/pandas-docs/stable/user_guide/indexing.html#returning-a-view-versus-a-copy\n",
            "  # This is added back by InteractiveShellApp.init_path()\n",
            "/usr/local/lib/python3.7/dist-packages/ipykernel_launcher.py:12: SettingWithCopyWarning: \n",
            "A value is trying to be set on a copy of a slice from a DataFrame.\n",
            "Try using .loc[row_indexer,col_indexer] = value instead\n",
            "\n",
            "See the caveats in the documentation: https://pandas.pydata.org/pandas-docs/stable/user_guide/indexing.html#returning-a-view-versus-a-copy\n",
            "  if sys.path[0] == '':\n",
            "/usr/local/lib/python3.7/dist-packages/ipykernel_launcher.py:13: SettingWithCopyWarning: \n",
            "A value is trying to be set on a copy of a slice from a DataFrame.\n",
            "Try using .loc[row_indexer,col_indexer] = value instead\n",
            "\n",
            "See the caveats in the documentation: https://pandas.pydata.org/pandas-docs/stable/user_guide/indexing.html#returning-a-view-versus-a-copy\n",
            "  del sys.path[0]\n",
            "/usr/local/lib/python3.7/dist-packages/ipykernel_launcher.py:14: SettingWithCopyWarning: \n",
            "A value is trying to be set on a copy of a slice from a DataFrame.\n",
            "Try using .loc[row_indexer,col_indexer] = value instead\n",
            "\n",
            "See the caveats in the documentation: https://pandas.pydata.org/pandas-docs/stable/user_guide/indexing.html#returning-a-view-versus-a-copy\n",
            "  \n"
          ],
          "name": "stderr"
        }
      ]
    },
    {
      "cell_type": "code",
      "metadata": {
        "colab": {
          "base_uri": "https://localhost:8080/"
        },
        "id": "uT4hnAj5GF0j",
        "outputId": "1a60de58-a2fb-48c4-c56c-e13cfc8ae64c"
      },
      "source": [
        "all_ind = combined_diagnoses['patientid'].isin(combined_diagnoses['patientid'])\n",
        "sepsis_ind =     (\n",
        "        (\n",
        "            #use reasons for admission\n",
        "            #surgical admissions with sepsis\n",
        "            (combined_diagnoses['surgical'] == 1) \n",
        "            & (combined_diagnoses['diagnosis'].str.contains(re_sepsis_surg, na=False, flags=re.IGNORECASE))\n",
        "        ) | (\n",
        "            #medical admissions with sepsis\n",
        "            (combined_diagnoses['surgical'] == 0) \n",
        "            & (combined_diagnoses['diagnosis'].str.contains(re_sepsis_med, na=False, flags=re.IGNORECASE))\n",
        "        ) | (\n",
        "            #uses documentation at admission form (Early Goal Directed Therapy)\n",
        "            (combined_diagnoses['sepsis_at_admission'] == 1)\n",
        "        ) | (\n",
        "            #uses administered (therapeutic) antibiotics for determining sepsis\n",
        "            (combined_diagnoses['sepsis_antibiotics_bool'] == 1)\n",
        "        ) | (\n",
        "            #uses combination of administered antibiotics (that sometimes are used as prophylaxis) AND \n",
        "            #drawn cultures for determining sepsis\n",
        "            (combined_diagnoses['other_antibiotics_bool'] == 1) \n",
        "            & (combined_diagnoses['sepsis_cultures_bool'] == 1)\n",
        "        )\n",
        "    ) & ~(combined_diagnoses['sepsis_at_admission'] == 0)\n",
        "cardiosurg_ind = (combined_diagnoses['surgical'] == 1\n",
        "                  ) & (combined_diagnoses['diagnosis'].str.contains(re_cardiosurg, na=False, flags=re.IGNORECASE))\n",
        "\n",
        "af_ind = af_admission['patientid'].isin(af_admission['patientid'])\n",
        "af_sepsis_ind = (af_admission['sepsis_surgical'] | \n",
        "                 af_admission['sepsis_admission'] | \n",
        "                 af_admission['sepsis_antibiotics'] | \n",
        "                 af_admission['sepsis_culture'])\n",
        "af_cardiosurg_ind = (af_admission['is_cardiothoracic'] & af_admission['is_cardiosurg'])"
      ],
      "execution_count": 86,
      "outputs": [
        {
          "output_type": "stream",
          "text": [
            "/usr/local/lib/python3.7/dist-packages/pandas/core/strings.py:2001: UserWarning: This pattern has match groups. To actually get the groups, use str.extract.\n",
            "  return func(self, *args, **kwargs)\n"
          ],
          "name": "stderr"
        }
      ]
    },
    {
      "cell_type": "code",
      "metadata": {
        "colab": {
          "base_uri": "https://localhost:8080/",
          "height": 576
        },
        "id": "qx7slndIybA6",
        "outputId": "48dea3a5-121d-400a-f7d7-04e96b365680"
      },
      "source": [
        "conditions = [all_ind, sepsis_ind, cardiosurg_ind, af_ind, af_sepsis_ind, af_cardiosurg_ind]\n",
        "for ii in range(6):\n",
        "  col = ds_columns[ii]\n",
        "  if ii < 3:\n",
        "    subset = combined_diagnoses.loc[conditions[ii], :]\n",
        "  else:\n",
        "    subset = af_admission.loc[conditions[ii], :]\n",
        "  table.loc['No. patients', col] = subset['patientid'].nunique()\n",
        "  for agegroup in af_admission['agegroup'].unique():\n",
        "    table.loc['Age: ' + agegroup + ' %', col] = (subset['agegroup'] == agegroup).mean() * 100\n",
        "  table.loc['Female %', col] = (subset['gender'] == 'Vrouw').mean() * 100\n",
        "  table.loc['Male %', col] = (subset['gender'] == 'Man').mean() * 100\n",
        "  table.loc['Urgency %', col] = (subset['urgency'] == 1).mean() * 100\n",
        "  table.loc['BMI *', col] = (subset['weightmean'] / (subset['heightmean'] ** 2)).mean()\n",
        "  table.loc['BMI **', col] = (subset['weightmax'] / (subset['heightmin'] ** 2)).mean()\n",
        "  table.loc['Weight >100kg %', col] = subset['weightgroup'].isin(['100-109', '110+']).mean() * 100\n",
        "  table.loc['From surgery %', col] = (subset['surgical'] == 1).mean()\n",
        "  table.loc['ICU length of stay (days)', col] = subset['lengthofstay'].mean() / 24\n",
        "  table.loc['Mortality %', col] = (~subset['dateofdeath'].isna()).mean() * 100\n",
        "table"
      ],
      "execution_count": 105,
      "outputs": [
        {
          "output_type": "execute_result",
          "data": {
            "text/html": [
              "<div>\n",
              "<style scoped>\n",
              "    .dataframe tbody tr th:only-of-type {\n",
              "        vertical-align: middle;\n",
              "    }\n",
              "\n",
              "    .dataframe tbody tr th {\n",
              "        vertical-align: top;\n",
              "    }\n",
              "\n",
              "    .dataframe thead th {\n",
              "        text-align: right;\n",
              "    }\n",
              "</style>\n",
              "<table border=\"1\" class=\"dataframe\">\n",
              "  <thead>\n",
              "    <tr style=\"text-align: right;\">\n",
              "      <th></th>\n",
              "      <th>All</th>\n",
              "      <th>Sepsis subset</th>\n",
              "      <th>CABG/valve subset</th>\n",
              "      <th>AF subset</th>\n",
              "      <th>AF+Sepsis</th>\n",
              "      <th>AF+CABG/valve</th>\n",
              "    </tr>\n",
              "  </thead>\n",
              "  <tbody>\n",
              "    <tr>\n",
              "      <th>No. patients</th>\n",
              "      <td>20109</td>\n",
              "      <td>2401</td>\n",
              "      <td>4768</td>\n",
              "      <td>2683</td>\n",
              "      <td>559</td>\n",
              "      <td>452</td>\n",
              "    </tr>\n",
              "    <tr>\n",
              "      <th>Age: 80+ %</th>\n",
              "      <td>9.78534</td>\n",
              "      <td>13.4669</td>\n",
              "      <td>9.42768</td>\n",
              "      <td>23.8539</td>\n",
              "      <td>26.1181</td>\n",
              "      <td>19.469</td>\n",
              "    </tr>\n",
              "    <tr>\n",
              "      <th>Age: 70-79 %</th>\n",
              "      <td>26.2875</td>\n",
              "      <td>22.8858</td>\n",
              "      <td>34.7763</td>\n",
              "      <td>39.7316</td>\n",
              "      <td>34.347</td>\n",
              "      <td>50.2212</td>\n",
              "    </tr>\n",
              "    <tr>\n",
              "      <th>Age: 60-69 %</th>\n",
              "      <td>26.3611</td>\n",
              "      <td>25.491</td>\n",
              "      <td>34.6098</td>\n",
              "      <td>23.3321</td>\n",
              "      <td>23.4347</td>\n",
              "      <td>23.0088</td>\n",
              "    </tr>\n",
              "    <tr>\n",
              "      <th>Age: 50-59 %</th>\n",
              "      <td>17.1038</td>\n",
              "      <td>16.6733</td>\n",
              "      <td>15.9001</td>\n",
              "      <td>9.05703</td>\n",
              "      <td>10.7335</td>\n",
              "      <td>6.19469</td>\n",
              "    </tr>\n",
              "    <tr>\n",
              "      <th>Age: 40-49 %</th>\n",
              "      <td>9.4218</td>\n",
              "      <td>10.3006</td>\n",
              "      <td>4.39126</td>\n",
              "      <td>2.27357</td>\n",
              "      <td>3.04114</td>\n",
              "      <td>0.663717</td>\n",
              "    </tr>\n",
              "    <tr>\n",
              "      <th>Age: 18-39 %</th>\n",
              "      <td>11.0404</td>\n",
              "      <td>11.1824</td>\n",
              "      <td>0.894901</td>\n",
              "      <td>1.75177</td>\n",
              "      <td>2.32558</td>\n",
              "      <td>0.442478</td>\n",
              "    </tr>\n",
              "    <tr>\n",
              "      <th>Female %</th>\n",
              "      <td>34.0821</td>\n",
              "      <td>39.0381</td>\n",
              "      <td>25.5359</td>\n",
              "      <td>35.8181</td>\n",
              "      <td>35.4204</td>\n",
              "      <td>34.5133</td>\n",
              "    </tr>\n",
              "    <tr>\n",
              "      <th>Male %</th>\n",
              "      <td>63.7713</td>\n",
              "      <td>58.2766</td>\n",
              "      <td>74.4433</td>\n",
              "      <td>61.6101</td>\n",
              "      <td>61.0018</td>\n",
              "      <td>65.4867</td>\n",
              "    </tr>\n",
              "    <tr>\n",
              "      <th>Urgency %</th>\n",
              "      <td>27.0319</td>\n",
              "      <td>36.1122</td>\n",
              "      <td>3.43392</td>\n",
              "      <td>34.5509</td>\n",
              "      <td>36.4937</td>\n",
              "      <td>5.53097</td>\n",
              "    </tr>\n",
              "    <tr>\n",
              "      <th>BMI *</th>\n",
              "      <td>26.1716</td>\n",
              "      <td>25.6191</td>\n",
              "      <td>27.301</td>\n",
              "      <td>26.303</td>\n",
              "      <td>25.6831</td>\n",
              "      <td>27.2847</td>\n",
              "    </tr>\n",
              "    <tr>\n",
              "      <th>BMI **</th>\n",
              "      <td>28.7817</td>\n",
              "      <td>28.1451</td>\n",
              "      <td>30.0413</td>\n",
              "      <td>28.9151</td>\n",
              "      <td>28.2565</td>\n",
              "      <td>29.9794</td>\n",
              "    </tr>\n",
              "    <tr>\n",
              "      <th>Weight &gt;100kg %</th>\n",
              "      <td>9.02796</td>\n",
              "      <td>7.93587</td>\n",
              "      <td>11.384</td>\n",
              "      <td>8.8334</td>\n",
              "      <td>7.33453</td>\n",
              "      <td>10.8407</td>\n",
              "    </tr>\n",
              "    <tr>\n",
              "      <th>Admission SOFA (to do)</th>\n",
              "      <td>NaN</td>\n",
              "      <td>NaN</td>\n",
              "      <td>NaN</td>\n",
              "      <td>NaN</td>\n",
              "      <td>NaN</td>\n",
              "      <td>NaN</td>\n",
              "    </tr>\n",
              "    <tr>\n",
              "      <th>From surgery %</th>\n",
              "      <td>0.488877</td>\n",
              "      <td>0.229659</td>\n",
              "      <td>1</td>\n",
              "      <td>0.405143</td>\n",
              "      <td>0.194991</td>\n",
              "      <td>1</td>\n",
              "    </tr>\n",
              "    <tr>\n",
              "      <th>ICU length of stay (days)</th>\n",
              "      <td>4.62933</td>\n",
              "      <td>9.22453</td>\n",
              "      <td>1.73266</td>\n",
              "      <td>9.34795</td>\n",
              "      <td>12.701</td>\n",
              "      <td>4.84569</td>\n",
              "    </tr>\n",
              "    <tr>\n",
              "      <th>Mortality %</th>\n",
              "      <td>33.2814</td>\n",
              "      <td>53.3868</td>\n",
              "      <td>11.2591</td>\n",
              "      <td>51.5095</td>\n",
              "      <td>64.5796</td>\n",
              "      <td>19.2478</td>\n",
              "    </tr>\n",
              "  </tbody>\n",
              "</table>\n",
              "</div>"
            ],
            "text/plain": [
              "                                All Sepsis subset  ... AF+Sepsis AF+CABG/valve\n",
              "No. patients                  20109          2401  ...       559           452\n",
              "Age: 80+ %                  9.78534       13.4669  ...   26.1181        19.469\n",
              "Age: 70-79 %                26.2875       22.8858  ...    34.347       50.2212\n",
              "Age: 60-69 %                26.3611        25.491  ...   23.4347       23.0088\n",
              "Age: 50-59 %                17.1038       16.6733  ...   10.7335       6.19469\n",
              "Age: 40-49 %                 9.4218       10.3006  ...   3.04114      0.663717\n",
              "Age: 18-39 %                11.0404       11.1824  ...   2.32558      0.442478\n",
              "Female %                    34.0821       39.0381  ...   35.4204       34.5133\n",
              "Male %                      63.7713       58.2766  ...   61.0018       65.4867\n",
              "Urgency %                   27.0319       36.1122  ...   36.4937       5.53097\n",
              "BMI *                       26.1716       25.6191  ...   25.6831       27.2847\n",
              "BMI **                      28.7817       28.1451  ...   28.2565       29.9794\n",
              "Weight >100kg %             9.02796       7.93587  ...   7.33453       10.8407\n",
              "Admission SOFA (to do)          NaN           NaN  ...       NaN           NaN\n",
              "From surgery %             0.488877      0.229659  ...  0.194991             1\n",
              "ICU length of stay (days)   4.62933       9.22453  ...    12.701       4.84569\n",
              "Mortality %                 33.2814       53.3868  ...   64.5796       19.2478\n",
              "\n",
              "[17 rows x 6 columns]"
            ]
          },
          "metadata": {
            "tags": []
          },
          "execution_count": 105
        }
      ]
    },
    {
      "cell_type": "markdown",
      "metadata": {
        "id": "P4ki7Ai2nL2B"
      },
      "source": [
        "**APACHE II / SOFA**\n",
        "\n",
        "Past medical history?"
      ]
    },
    {
      "cell_type": "code",
      "metadata": {
        "colab": {
          "base_uri": "https://localhost:8080/",
          "height": 394
        },
        "id": "TwRV4zGAfA1W",
        "outputId": "403eaa11-c219-45bb-d4d9-6298f13975fb"
      },
      "source": [
        "import re\n",
        "# dictionary.loc[dictionary['abbreviation'].str.contains(r'BMI', flags = re.IGNORECASE),:]\n",
        "dictionary.head()\n",
        "# print('\\n'.join(dictionary.loc[dictionary['category'].str.contains(r'apache ii', flags = re.IGNORECASE) & (dictionary['count'] > 0),'value'].unique().astype(str)))\n",
        "dictionary.loc[dictionary['item'].str.contains(r'Apache II Non-Operatief Cardiovasculair', flags = re.IGNORECASE),:].head(5)\n",
        "# dictionary.loc[dictionary['item'].str.contains(r'Ritmestoornissen', flags = re.IGNORECASE), :]"
      ],
      "execution_count": 34,
      "outputs": [
        {
          "output_type": "execute_result",
          "data": {
            "text/html": [
              "<div>\n",
              "<style scoped>\n",
              "    .dataframe tbody tr th:only-of-type {\n",
              "        vertical-align: middle;\n",
              "    }\n",
              "\n",
              "    .dataframe tbody tr th {\n",
              "        vertical-align: top;\n",
              "    }\n",
              "\n",
              "    .dataframe thead th {\n",
              "        text-align: right;\n",
              "    }\n",
              "</style>\n",
              "<table border=\"1\" class=\"dataframe\">\n",
              "  <thead>\n",
              "    <tr style=\"text-align: right;\">\n",
              "      <th></th>\n",
              "      <th>itemid</th>\n",
              "      <th>item</th>\n",
              "      <th>item_en</th>\n",
              "      <th>abbreviation</th>\n",
              "      <th>categoryid</th>\n",
              "      <th>category</th>\n",
              "      <th>category_en</th>\n",
              "      <th>ordercategoryid</th>\n",
              "      <th>ordercategory</th>\n",
              "      <th>islabresult</th>\n",
              "      <th>valueid</th>\n",
              "      <th>value</th>\n",
              "      <th>unitid</th>\n",
              "      <th>unit</th>\n",
              "      <th>low_normal_value</th>\n",
              "      <th>high_normal_value</th>\n",
              "      <th>table</th>\n",
              "      <th>count</th>\n",
              "      <th>count_validated</th>\n",
              "    </tr>\n",
              "  </thead>\n",
              "  <tbody>\n",
              "    <tr>\n",
              "      <th>243</th>\n",
              "      <td>18589</td>\n",
              "      <td>Apache II Non-Operatief Cardiovasculair</td>\n",
              "      <td>NaN</td>\n",
              "      <td>Apache II Non-Operatief Cardiovasculair</td>\n",
              "      <td>707</td>\n",
              "      <td>APACHE II Diagnosen</td>\n",
              "      <td>NaN</td>\n",
              "      <td>NaN</td>\n",
              "      <td>NaN</td>\n",
              "      <td>0.0</td>\n",
              "      <td>1.0</td>\n",
              "      <td>Cardiovasculair</td>\n",
              "      <td>NaN</td>\n",
              "      <td>NaN</td>\n",
              "      <td>NaN</td>\n",
              "      <td>NaN</td>\n",
              "      <td>listitems</td>\n",
              "      <td>276</td>\n",
              "      <td>276.0</td>\n",
              "    </tr>\n",
              "    <tr>\n",
              "      <th>244</th>\n",
              "      <td>18589</td>\n",
              "      <td>Apache II Non-Operatief Cardiovasculair</td>\n",
              "      <td>NaN</td>\n",
              "      <td>Apache II Non-Operatief Cardiovasculair</td>\n",
              "      <td>707</td>\n",
              "      <td>APACHE II Diagnosen</td>\n",
              "      <td>NaN</td>\n",
              "      <td>NaN</td>\n",
              "      <td>NaN</td>\n",
              "      <td>0.0</td>\n",
              "      <td>2.0</td>\n",
              "      <td>Cardiovasculair multiple trauma</td>\n",
              "      <td>NaN</td>\n",
              "      <td>NaN</td>\n",
              "      <td>NaN</td>\n",
              "      <td>NaN</td>\n",
              "      <td>listitems</td>\n",
              "      <td>82</td>\n",
              "      <td>82.0</td>\n",
              "    </tr>\n",
              "    <tr>\n",
              "      <th>245</th>\n",
              "      <td>18589</td>\n",
              "      <td>Apache II Non-Operatief Cardiovasculair</td>\n",
              "      <td>NaN</td>\n",
              "      <td>Apache II Non-Operatief Cardiovasculair</td>\n",
              "      <td>707</td>\n",
              "      <td>APACHE II Diagnosen</td>\n",
              "      <td>NaN</td>\n",
              "      <td>NaN</td>\n",
              "      <td>NaN</td>\n",
              "      <td>0.0</td>\n",
              "      <td>3.0</td>\n",
              "      <td>Coronair lijden</td>\n",
              "      <td>NaN</td>\n",
              "      <td>NaN</td>\n",
              "      <td>NaN</td>\n",
              "      <td>NaN</td>\n",
              "      <td>listitems</td>\n",
              "      <td>104</td>\n",
              "      <td>104.0</td>\n",
              "    </tr>\n",
              "    <tr>\n",
              "      <th>246</th>\n",
              "      <td>18589</td>\n",
              "      <td>Apache II Non-Operatief Cardiovasculair</td>\n",
              "      <td>NaN</td>\n",
              "      <td>Apache II Non-Operatief Cardiovasculair</td>\n",
              "      <td>707</td>\n",
              "      <td>APACHE II Diagnosen</td>\n",
              "      <td>NaN</td>\n",
              "      <td>NaN</td>\n",
              "      <td>NaN</td>\n",
              "      <td>0.0</td>\n",
              "      <td>4.0</td>\n",
              "      <td>Thoracaal of abdominaal aneurysma</td>\n",
              "      <td>NaN</td>\n",
              "      <td>NaN</td>\n",
              "      <td>NaN</td>\n",
              "      <td>NaN</td>\n",
              "      <td>listitems</td>\n",
              "      <td>62</td>\n",
              "      <td>62.0</td>\n",
              "    </tr>\n",
              "    <tr>\n",
              "      <th>247</th>\n",
              "      <td>18589</td>\n",
              "      <td>Apache II Non-Operatief Cardiovasculair</td>\n",
              "      <td>NaN</td>\n",
              "      <td>Apache II Non-Operatief Cardiovasculair</td>\n",
              "      <td>707</td>\n",
              "      <td>APACHE II Diagnosen</td>\n",
              "      <td>NaN</td>\n",
              "      <td>NaN</td>\n",
              "      <td>NaN</td>\n",
              "      <td>0.0</td>\n",
              "      <td>5.0</td>\n",
              "      <td>Congestief hart falen</td>\n",
              "      <td>NaN</td>\n",
              "      <td>NaN</td>\n",
              "      <td>NaN</td>\n",
              "      <td>NaN</td>\n",
              "      <td>listitems</td>\n",
              "      <td>294</td>\n",
              "      <td>294.0</td>\n",
              "    </tr>\n",
              "  </tbody>\n",
              "</table>\n",
              "</div>"
            ],
            "text/plain": [
              "     itemid                                     item  ... count count_validated\n",
              "243   18589  Apache II Non-Operatief Cardiovasculair  ...   276           276.0\n",
              "244   18589  Apache II Non-Operatief Cardiovasculair  ...    82            82.0\n",
              "245   18589  Apache II Non-Operatief Cardiovasculair  ...   104           104.0\n",
              "246   18589  Apache II Non-Operatief Cardiovasculair  ...    62            62.0\n",
              "247   18589  Apache II Non-Operatief Cardiovasculair  ...   294           294.0\n",
              "\n",
              "[5 rows x 19 columns]"
            ]
          },
          "metadata": {
            "tags": []
          },
          "execution_count": 34
        }
      ]
    },
    {
      "cell_type": "code",
      "metadata": {
        "id": "l2AEXZl3oPUY"
      },
      "source": [
        "# apache = pd.read_gbq(\n",
        "#     '''\n",
        "#     SELECT\n",
        "#       admissionid\n",
        "#       ,itemid\n",
        "#       --,item\n",
        "#       ,valueid\n",
        "#       ,value\n",
        "#       ,measuredat\n",
        "#       --,registeredat\n",
        "#       --,registeredby\n",
        "#       --,updatedat\n",
        "#       --,updatedby\n",
        "#       --,islabresult\n",
        "#     FROM listitems\n",
        "#     WHERE \n",
        "#       itemid = 18589\t--Apache II Non-Operatief Cardiovasculair\n",
        "#     '''\n",
        "#     , configuration=config_gbq)"
      ],
      "execution_count": 35,
      "outputs": []
    }
  ]
}