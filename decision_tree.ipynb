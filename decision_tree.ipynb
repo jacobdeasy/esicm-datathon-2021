{
  "nbformat": 4,
  "nbformat_minor": 0,
  "metadata": {
    "colab": {
      "name": "decision-tree.ipynb",
      "provenance": []
    },
    "kernelspec": {
      "name": "python3",
      "display_name": "Python 3"
    },
    "language_info": {
      "name": "python"
    }
  },
  "cells": [
    {
      "cell_type": "code",
      "metadata": {
        "id": "emWOyImHdebP"
      },
      "source": [
        "## You need to change the project ID to match your GCP\n",
        "PROJECT_ID = \"halogen-rarity-312520\""
      ],
      "execution_count": 1,
      "outputs": []
    },
    {
      "cell_type": "code",
      "metadata": {
        "colab": {
          "base_uri": "https://localhost:8080/"
        },
        "id": "2OAARK1odmIN",
        "outputId": "fca03bd7-96a5-40b6-d4a2-811aba78ad78"
      },
      "source": [
        "import os\n",
        "from google.colab import auth\n",
        "\n",
        "#sets dateset\n",
        "DATASET_PROJECT_ID = 'amsterdamumcdb-data'\n",
        "DATASET_ID = 'ams102'\n",
        "LOCATION = 'eu'\n",
        "\n",
        "#all libraries check this environment variable, so set it:\n",
        "os.environ[\"GOOGLE_CLOUD_PROJECT\"] = PROJECT_ID\n",
        "\n",
        "auth.authenticate_user()\n",
        "print('Authenticated')"
      ],
      "execution_count": 2,
      "outputs": [
        {
          "output_type": "stream",
          "text": [
            "Authenticated\n"
          ],
          "name": "stdout"
        }
      ]
    },
    {
      "cell_type": "code",
      "metadata": {
        "id": "--w_WRifdmsG"
      },
      "source": [
        "from google.cloud.bigquery import magics\n",
        "from google.cloud import bigquery\n",
        "\n",
        "#sets the default query job configuration\n",
        "def_config = bigquery.job.QueryJobConfig(default_dataset=DATASET_PROJECT_ID + \".\" + DATASET_ID)\n",
        "\n",
        "#sets client options job configuration\n",
        "client_options = {}\n",
        "client_options['location'] = LOCATION"
      ],
      "execution_count": 3,
      "outputs": []
    },
    {
      "cell_type": "code",
      "metadata": {
        "id": "uCQ_kGAAdrea"
      },
      "source": [
        "import pandas as pd\n",
        "import numpy as np\n",
        "import re\n",
        "from sklearn import tree\n",
        "from sklearn.model_selection import train_test_split\n",
        "from sklearn.ensemble import RandomForestClassifier\n",
        "from sklearn.preprocessing import OneHotEncoder\n",
        "import matplotlib.pyplot as plt"
      ],
      "execution_count": 4,
      "outputs": []
    },
    {
      "cell_type": "code",
      "metadata": {
        "id": "uj2WxsBdd0LM"
      },
      "source": [
        "pd.set_option('display.max_rows', 100)"
      ],
      "execution_count": 5,
      "outputs": []
    },
    {
      "cell_type": "code",
      "metadata": {
        "id": "76UXIlbrd3B4"
      },
      "source": [
        "config_gbq = {'query': \n",
        "          {'defaultDataset': {\n",
        "              \"datasetId\": DATASET_ID, \n",
        "              \"projectId\": DATASET_PROJECT_ID\n",
        "              },\n",
        "           'Location': LOCATION}\n",
        "           }"
      ],
      "execution_count": 6,
      "outputs": []
    },
    {
      "cell_type": "code",
      "metadata": {
        "id": "_sl8Gscrd4ho"
      },
      "source": [
        "diagnoses_sql = '''\n",
        "WITH diagnoses AS (\n",
        "    SELECT admissionid,\n",
        "        item, \n",
        "        value as diagnosis,\n",
        "        CASE\n",
        "            WHEN itemid IN (\n",
        "                --SURGICAL\n",
        "                13116, --D_Thoraxchirurgie_CABG en Klepchirurgie\n",
        "                16671, --DMC_Thoraxchirurgie_CABG en Klepchirurgie\n",
        "                13117, --D_Thoraxchirurgie_Cardio anders\n",
        "                16672, --DMC_Thoraxchirurgie_Cardio anders\n",
        "                13118, --D_Thoraxchirurgie_Aorta chirurgie\n",
        "                16670, --DMC_Thoraxchirurgie_Aorta chirurgie\n",
        "                13119, --D_Thoraxchirurgie_Pulmonale chirurgie\n",
        "                16673, --DMC_Thoraxchirurgie_Pulmonale chirurgie\n",
        "\n",
        "                --Not surgical: 13141, --D_Algemene chirurgie_Algemeen   \n",
        "                --Not surgical: 16642, --DMC_Algemene chirurgie_Algemeen\n",
        "                13121, --D_Algemene chirurgie_Buikchirurgie\n",
        "                16643, --DMC_Algemene chirurgie_Buikchirurgie\n",
        "                13123, --D_Algemene chirurgie_Endocrinologische chirurgie\n",
        "                16644, --DMC_Algemene chirurgie_Endocrinologische chirurgie\n",
        "                13145, --D_Algemene chirurgie_KNO/Overige\n",
        "                16645, --DMC_Algemene chirurgie_KNO/Overige\n",
        "                13125, --D_Algemene chirurgie_Orthopedische chirurgie\n",
        "                16646, --DMC_Algemene chirurgie_Orthopedische chirurgie\n",
        "                13122, --D_Algemene chirurgie_Transplantatie chirurgie\n",
        "                16647, --DMC_Algemene chirurgie_Transplantatie chirurgie\n",
        "                13124, --D_Algemene chirurgie_Trauma\n",
        "                16648, --DMC_Algemene chirurgie_Trauma\n",
        "                13126, --D_Algemene chirurgie_Urogenitaal\n",
        "                16649, --DMC_Algemene chirurgie_Urogenitaal\n",
        "                13120, --D_Algemene chirurgie_Vaatchirurgie\n",
        "                16650, --DMC_Algemene chirurgie_Vaatchirurgie\n",
        "\n",
        "                13128, --D_Neurochirurgie _Vasculair chirurgisch\n",
        "                16661, --DMC_Neurochirurgie _Vasculair chirurgisch\n",
        "                13129, --D_Neurochirurgie _Tumor chirurgie\n",
        "                16660, --DMC_Neurochirurgie _Tumor chirurgie\n",
        "                13130, --D_Neurochirurgie_Overige\n",
        "                16662, --DMC_Neurochirurgie_Overige\n",
        "\n",
        "                18596, --Apache II Operatief  Gastr-intenstinaal\n",
        "                18597, --Apache II Operatief Cardiovasculair\n",
        "                18598, --Apache II Operatief Hematologisch\n",
        "                18599, --Apache II Operatief Metabolisme\n",
        "                18600, --Apache II Operatief Neurologisch\n",
        "                18601, --Apache II Operatief Renaal\n",
        "                18602, --Apache II Operatief Respiratoir\n",
        "\n",
        "                17008, --APACHEIV Post-operative cardiovascular\n",
        "                17009, --APACHEIV Post-operative gastro-intestinal\n",
        "                17010, --APACHEIV Post-operative genitourinary\n",
        "                17011, --APACHEIV Post-operative hematology\n",
        "                17012, --APACHEIV Post-operative metabolic\n",
        "                17013, --APACHEIV Post-operative musculoskeletal /skin\n",
        "                17014, --APACHEIV Post-operative neurologic\n",
        "                17015, --APACHEIV Post-operative respiratory\n",
        "                17016, --APACHEIV Post-operative transplant\n",
        "                17017 --APACHEIV Post-operative trauma\n",
        "\n",
        "            ) THEN 1\n",
        "            WHEN itemid = 18669 AND valueid BETWEEN 1 AND 26 THEN 1 --NICE APACHEII diagnosen\n",
        "            WHEN itemid = 18671 AND valueid BETWEEN 222 AND 452 THEN 1 --NICE APACHEIV diagnosen\n",
        "            ELSE 0\n",
        "        END AS surgical,\n",
        "        valueid as diagnosis_id,\n",
        "        CASE \n",
        "                WHEN itemid = 18671 THEN 'NICE APACHE IV'\n",
        "                WHEN itemid = 18669 THEN 'NICE APACHE II'\n",
        "                WHEN itemid BETWEEN 16998 AND 17017 THEN 'APACHE IV'\n",
        "                WHEN itemid BETWEEN 18589 AND 18602 THEN 'APACHE II'\n",
        "                WHEN itemid BETWEEN 13116 AND 13145 THEN 'Legacy ICU'\n",
        "                WHEN itemid BETWEEN 16642 AND 16673 THEN 'Legacy MCU'\n",
        "        END AS diagnosis_type,\n",
        "        ROW_NUMBER() OVER(PARTITION BY admissionid\n",
        "        ORDER BY \n",
        "            CASE --prefer NICE > APACHE IV > II > D\n",
        "                WHEN itemid = 18671 THEN 6 --NICE APACHEIV diagnosen\n",
        "                WHEN itemid = 18669 THEN 5 --NICE APACHEII diagnosen                \n",
        "                WHEN itemid BETWEEN 16998 AND 17017 THEN 4 --APACHE IV diagnosis        \n",
        "                WHEN itemid BETWEEN 18589 AND 18602 THEN 3 --APACHE II diagnosis\n",
        "                WHEN itemid BETWEEN 13116 AND 13145 THEN 2 --D diagnosis ICU\n",
        "                WHEN itemid BETWEEN 16642 AND 16673 THEN 1 --DMC diagnosis Medium Care\n",
        "            END DESC,\n",
        "            measuredat DESC) AS rownum\n",
        "    FROM listitems\n",
        "    WHERE itemid IN (\n",
        "        -- Diagnosis - LEVEL 2\n",
        "        --SURGICAL\n",
        "        13116, --D_Thoraxchirurgie_CABG en Klepchirurgie\n",
        "        16671, --DMC_Thoraxchirurgie_CABG en Klepchirurgie\n",
        "        13117, --D_Thoraxchirurgie_Cardio anders\n",
        "        16672, --DMC_Thoraxchirurgie_Cardio anders\n",
        "        13118, --D_Thoraxchirurgie_Aorta chirurgie\n",
        "        16670, --DMC_Thoraxchirurgie_Aorta chirurgie\n",
        "        13119, --D_Thoraxchirurgie_Pulmonale chirurgie\n",
        "        16673, --DMC_Thoraxchirurgie_Pulmonale chirurgie\n",
        "        \n",
        "        13141, --D_Algemene chirurgie_Algemeen   \n",
        "        16642, --DMC_Algemene chirurgie_Algemeen\n",
        "        13121, --D_Algemene chirurgie_Buikchirurgie\n",
        "        16643, --DMC_Algemene chirurgie_Buikchirurgie\n",
        "        13123, --D_Algemene chirurgie_Endocrinologische chirurgie\n",
        "        16644, --DMC_Algemene chirurgie_Endocrinologische chirurgie\n",
        "        13145, --D_Algemene chirurgie_KNO/Overige\n",
        "        16645, --DMC_Algemene chirurgie_KNO/Overige\n",
        "        13125, --D_Algemene chirurgie_Orthopedische chirurgie\n",
        "        16646, --DMC_Algemene chirurgie_Orthopedische chirurgie\n",
        "        13122, --D_Algemene chirurgie_Transplantatie chirurgie\n",
        "        16647, --DMC_Algemene chirurgie_Transplantatie chirurgie\n",
        "        13124, --D_Algemene chirurgie_Trauma\n",
        "        16648, --DMC_Algemene chirurgie_Trauma\n",
        "        13126, --D_Algemene chirurgie_Urogenitaal\n",
        "        16649, --DMC_Algemene chirurgie_Urogenitaal\n",
        "        13120, --D_Algemene chirurgie_Vaatchirurgie\n",
        "        16650, --DMC_Algemene chirurgie_Vaatchirurgie\n",
        "\n",
        "        13128, --D_Neurochirurgie _Vasculair chirurgisch\n",
        "        16661, --DMC_Neurochirurgie _Vasculair chirurgisch\n",
        "        13129, --D_Neurochirurgie _Tumor chirurgie\n",
        "        16660, --DMC_Neurochirurgie _Tumor chirurgie\n",
        "        13130, --D_Neurochirurgie_Overige\n",
        "        16662, --DMC_Neurochirurgie_Overige\n",
        "        \n",
        "        18596, --Apache II Operatief  Gastr-intenstinaal\n",
        "        18597, --Apache II Operatief Cardiovasculair\n",
        "        18598, --Apache II Operatief Hematologisch\n",
        "        18599, --Apache II Operatief Metabolisme\n",
        "        18600, --Apache II Operatief Neurologisch\n",
        "        18601, --Apache II Operatief Renaal\n",
        "        18602, --Apache II Operatief Respiratoir\n",
        "        \n",
        "        17008, --APACHEIV Post-operative cardiovascular\n",
        "        17009, --APACHEIV Post-operative gastro-intestinal\n",
        "        17010, --APACHEIV Post-operative genitourinary\n",
        "        17011, --APACHEIV Post-operative hematology\n",
        "        17012, --APACHEIV Post-operative metabolic\n",
        "        17013, --APACHEIV Post-operative musculoskeletal /skin\n",
        "        17014, --APACHEIV Post-operative neurologic\n",
        "        17015, --APACHEIV Post-operative respiratory\n",
        "        17016, --APACHEIV Post-operative transplant\n",
        "        17017, --APACHEIV Post-operative trauma\n",
        "\n",
        "        --MEDICAL\n",
        "        13133, --D_Interne Geneeskunde_Cardiovasculair\n",
        "        16653, --DMC_Interne Geneeskunde_Cardiovasculair\n",
        "        13134, --D_Interne Geneeskunde_Pulmonaal\n",
        "        16658, --DMC_Interne Geneeskunde_Pulmonaal\n",
        "        13135, --D_Interne Geneeskunde_Abdominaal\n",
        "        16652, --DMC_Interne Geneeskunde_Abdominaal\n",
        "        13136, --D_Interne Geneeskunde_Infectieziekten\n",
        "        16655, --DMC_Interne Geneeskunde_Infectieziekten\n",
        "        13137, --D_Interne Geneeskunde_Metabool\n",
        "        16656, --DMC_Interne Geneeskunde_Metabool\n",
        "        13138, --D_Interne Geneeskunde_Renaal\n",
        "        16659, --DMC_Interne Geneeskunde_Renaal\n",
        "        13139, --D_Interne Geneeskunde_Hematologisch\n",
        "        16654, --DMC_Interne Geneeskunde_Hematologisch\n",
        "        13140, --D_Interne Geneeskunde_Overige\n",
        "        16657, --DMC_Interne Geneeskunde_Overige\n",
        "\n",
        "        13131, --D_Neurologie_Vasculair neurologisch\n",
        "        16664, --DMC_Neurologie_Vasculair neurologisch\n",
        "        13132, --D_Neurologie_Overige\n",
        "        16663, --DMC_Neurologie_Overige \n",
        "        13127, --D_KNO/Overige\n",
        "        \n",
        "        18589, --Apache II Non-Operatief Cardiovasculair\n",
        "        18590, --Apache II Non-Operatief Gastro-intestinaal\n",
        "        18591, --Apache II Non-Operatief Hematologisch\n",
        "        18592, --Apache II Non-Operatief Metabolisme\n",
        "        18593, --Apache II Non-Operatief Neurologisch\n",
        "        18594, --Apache II Non-Operatief Renaal\n",
        "        18595, --Apache II Non-Operatief Respiratoir\n",
        "        \n",
        "        16998, --APACHE IV Non-operative cardiovascular\n",
        "        16999, --APACHE IV Non-operative Gastro-intestinal\n",
        "        17000, --APACHE IV Non-operative genitourinary\n",
        "        17001, --APACHEIV  Non-operative haematological\n",
        "        17002, --APACHEIV  Non-operative metabolic\n",
        "        17003, --APACHEIV Non-operative musculo-skeletal\n",
        "        17004, --APACHEIV Non-operative neurologic\n",
        "        17005, --APACHEIV Non-operative respiratory\n",
        "        17006, --APACHEIV Non-operative transplant\n",
        "        17007, --APACHEIV Non-operative trauma\n",
        "        \n",
        "        --NICE: surgical/medical combined in same parameter\n",
        "        18669, --NICE APACHEII diagnosen\n",
        "        18671 --NICE APACHEIV diagnosen\n",
        "    )\n",
        "), sepsis AS (\n",
        "    SELECT\n",
        "        admissionid,\n",
        "        CASE valueid\n",
        "            WHEN 1 THEN 1 --'Ja'\n",
        "            WHEN 2 THEN 0 --'Nee'\n",
        "        END as sepsis_at_admission,\n",
        "        ROW_NUMBER() OVER(\n",
        "            PARTITION BY \n",
        "                admissionid\n",
        "            ORDER BY \n",
        "                measuredat DESC) AS rownum\n",
        "    FROM listitems\n",
        "    WHERE \n",
        "        itemid = 15808\n",
        "), sepsis_antibiotics AS ( --non prophylactic antibiotics\n",
        "    SELECT\n",
        "        admissionid,\n",
        "        CASE \n",
        "            WHEN COUNT(*) > 0 THEN 1\n",
        "            ELSE 0\n",
        "        END AS sepsis_antibiotics_bool,\n",
        "        STRING_AGG(DISTINCT item, '; ') AS sepsis_antibiotics_given\n",
        "    FROM drugitems\n",
        "    WHERE \n",
        "        itemid IN (\n",
        "            6834, --Amikacine (Amukin)\n",
        "            6847, --Amoxicilline (Clamoxyl/Flemoxin)\n",
        "            6871, --Benzylpenicilline (Penicilline)\n",
        "            6917, --Ceftazidim (Fortum)\n",
        "            --6919, --Cefotaxim (Claforan) -> prophylaxis\n",
        "            6948, --Ciprofloxacine (Ciproxin)\n",
        "            6953, --Rifampicine (Rifadin)\n",
        "            6958, --Clindamycine (Dalacin)\n",
        "            7044, --Tobramycine (Obracin)\n",
        "            --7064, --Vancomycine -> prophylaxis for valve surgery\n",
        "            7123, --Imipenem (Tienam)\n",
        "            7185, --Doxycycline (Vibramycine)\n",
        "            --7187, --Metronidazol (Flagyl) -> often used for GI surgical prophylaxis\n",
        "            --7208, --Erythromycine (Erythrocine) -> often used for gastroparesis\n",
        "            7227, --Flucloxacilline (Stafoxil/Floxapen)\n",
        "            7231, --Fluconazol (Diflucan)\n",
        "            7232, --Ganciclovir (Cymevene)\n",
        "            7233, --Flucytosine (Ancotil)\n",
        "            7235, --Gentamicine (Garamycin)\n",
        "            7243, --Foscarnet trinatrium (Foscavir)\n",
        "            7450, --Amfotericine B (Fungizone)\n",
        "            --7504, --X nader te bepalen --non-stock medication\n",
        "            8127, --Meropenem (Meronem)\n",
        "            8229, --Myambutol (ethambutol)\n",
        "            8374, --Kinine dihydrocloride\n",
        "            --8375, --Immunoglobuline (Nanogam) -> not anbiotic\n",
        "            --8394, --Co-Trimoxazol (Bactrimel) -> often prophylactic (unless high dose)\n",
        "            8547, --Voriconazol(VFEND)\n",
        "            --9029, --Amoxicilline/Clavulaanzuur (Augmentin) -> often used for ENT surgical prophylaxis\n",
        "            9030, --Aztreonam (Azactam)\n",
        "            9047, --Chlooramfenicol\n",
        "            --9075, --Fusidinezuur (Fucidin) -> prophylaxis\n",
        "            9128, --Piperacilline (Pipcil)\n",
        "            9133, --Ceftriaxon (Rocephin)\n",
        "            --9151, --Cefuroxim (Zinacef) -> often used for GI/transplant surgical prophylaxis\n",
        "            --9152, --Cefazoline (Kefzol) -> prophylaxis for cardiac surgery\n",
        "            9458, --Caspofungine\n",
        "            9542, --Itraconazol (Trisporal)\n",
        "            --9602, --Tetanusimmunoglobuline -> prophylaxis/not antibiotic\n",
        "            12398, --Levofloxacine (Tavanic)\n",
        "            12772, --Amfotericine B lipidencomplex  (Abelcet)\n",
        "            15739, --Ecalta (Anidulafungine)\n",
        "            16367, --Research Anidulafungin/placebo\n",
        "            16368, --Research Caspofungin/placebo\n",
        "            18675, --Amfotericine B in liposomen (Ambisome )\n",
        "            19137, --Linezolid (Zyvoxid)\n",
        "            19764, --Tigecycline (Tygacil)\n",
        "            19773, --Daptomycine (Cubicin)\n",
        "            20175 --Colistine\n",
        "        )\n",
        "        AND start < 6*60*60*1000 --within 6 hours (to correct for antibiotics administered before ICU)\n",
        "    GROUP BY admissionid\n",
        "), other_antibiotics AS ( --'prophylactic' antibiotics that may be used for sepsis\n",
        "    SELECT\n",
        "        admissionid,\n",
        "        CASE \n",
        "            WHEN COUNT(*) > 0 THEN 1\n",
        "            ELSE 0\n",
        "        END AS other_antibiotics_bool,\n",
        "        STRING_AGG(DISTINCT item, '; ') AS other_antibiotics_given\n",
        "    FROM drugitems\n",
        "    WHERE \n",
        "        itemid IN (\n",
        "            7064, --Vancomycine -> prophylaxis for valve surgery\n",
        "            7187, --Metronidazol (Flagyl) -> often used for GI surgical prophylaxis\n",
        "            8394, --Co-Trimoxazol (Bactrimel) -> often prophylactic (unless high dose)\n",
        "            9029, --Amoxicilline/Clavulaanzuur (Augmentin) -> often used for ENT surgical prophylaxis\n",
        "            9151, --Cefuroxim (Zinacef) -> often used for GI surgical prophylaxis\n",
        "            9152 --Cefazoline (Kefzol) -> prophylaxis\n",
        "        )\n",
        "        AND start < 24*60*60*1000 --within 24 hours (to correct for antibiotics administered before ICU)\n",
        "    GROUP BY admissionid    \n",
        "), cultures AS (\n",
        "    SELECT\n",
        "        admissionid,\n",
        "        CASE \n",
        "            WHEN COUNT(*) > 0 THEN 1\n",
        "            ELSE 0\n",
        "        END AS sepsis_cultures_bool,\n",
        "        STRING_AGG(DISTINCT item, '; ') AS sepsis_cultures_drawn\n",
        "    FROM procedureorderitems\n",
        "    WHERE \n",
        "        itemid IN (\n",
        "        --8097, --Sputumkweek afnemen -> often used routinely\n",
        "        --8418, --Urinekweek afnemen\n",
        "        --8588, --MRSA kweken afnemen \n",
        "        9189, --Bloedkweken afnemen\n",
        "        9190, --Cathetertipkweek afnemen\n",
        "        --9191, --Drainvochtkweek afnemen\n",
        "        --9192, --Faeceskweek afnemen -> Clostridium\n",
        "        --9193, --X-Kweek nader te bepalen\n",
        "        --9194, --Liquorkweek afnemen\n",
        "        --9195, --Neuskweek afnemen\n",
        "        --9197, --Perineumkweek afnemen -> often used routinely\n",
        "        -9198, --Rectumkweek afnemen -> often used routinely\n",
        "        9200, --Wondkweek afnemen\n",
        "        9202, --Ascitesvochtkweek afnemen\n",
        "        --9203, --Keelkweek afnemen -> often used routinely\n",
        "        --9204, --SDD-kweken afnemen -> often used routinely\n",
        "        9205 --Legionella sneltest (urine)\n",
        "        --1302, --SDD Inventarisatiekweken afnemen -> often used routinely\n",
        "        --19663, --Research Neuskweek COUrSe\n",
        "        --19664, --Research Sputumkweek COUrSe\n",
        "        )\n",
        "        AND registeredat < 6*60*60*1000 --within 6 hours\n",
        "    GROUP BY admissionid\n",
        ")\n",
        "SELECT \n",
        "    admissions.* \n",
        "    , diagnosis_type\n",
        "    , diagnosis, diagnosis_id\n",
        "    , surgical\n",
        "    , sepsis_at_admission\n",
        "    , sepsis_antibiotics_bool\n",
        "    , sepsis_antibiotics_given\n",
        "    , other_antibiotics_bool\n",
        "    , other_antibiotics_given\n",
        "    , sepsis_cultures_bool\n",
        "    , sepsis_cultures_drawn\n",
        "FROM admissions\n",
        "LEFT JOIN diagnoses on admissions.admissionid = diagnoses.admissionid\n",
        "LEFT JOIN sepsis on admissions.admissionid = sepsis.admissionid\n",
        "LEFT JOIN sepsis_antibiotics on admissions.admissionid = sepsis_antibiotics.admissionid\n",
        "LEFT JOIN other_antibiotics on admissions.admissionid = other_antibiotics.admissionid\n",
        "LEFT JOIN cultures on admissions.admissionid = cultures.admissionid\n",
        "WHERE --only last updated record\n",
        "    (diagnoses.rownum = 1 OR diagnoses.rownum IS NULL) AND \n",
        "    (sepsis.rownum = 1 OR sepsis.rownum IS NULL) \n",
        ";\n",
        "'''"
      ],
      "execution_count": 7,
      "outputs": []
    },
    {
      "cell_type": "code",
      "metadata": {
        "id": "MGEjy3AheUfc"
      },
      "source": [
        "af = pd.read_gbq(\n",
        "    '''\n",
        "    SELECT\n",
        "      admissionid\n",
        "      ,itemid\n",
        "      --,item\n",
        "      ,valueid\n",
        "      --,value\n",
        "      ,measuredat\n",
        "      --,registeredat\n",
        "      --,registeredby\n",
        "      --,updatedat\n",
        "      --,updatedby\n",
        "      --,islabresult\n",
        "    FROM listitems\n",
        "    WHERE \n",
        "      itemid = 6671\t--Hartritme\n",
        "      AND valueid = 13\t--Atr fib\n",
        "    '''\n",
        "    , configuration=config_gbq)"
      ],
      "execution_count": null,
      "outputs": []
    },
    {
      "cell_type": "code",
      "metadata": {
        "id": "ZpFQouSK4S7A"
      },
      "source": [
        "# af_inclusion_tf = (af['measuredat'] > 0.5 * 60 * 60 * 1000) & (af['measuredat'] < 5 * 24 * 60 * 60 * 1000)\n",
        "# af_exclusion_tf = af['measuredat'] < 0\n",
        "\n",
        "af_inclusion_tf = af['measuredat'] < 5 * 24 * 60 * 60 * 1000\n",
        "af_exclusion_tf = af['measuredat'] < 0.5 * 60 * 60 * 1000\n",
        "\n",
        "## Note we will also want to remove all patients who have an AF event before 30 mins if we decide this isn't NOAF\n",
        "include_admissionid = af.loc[af_inclusion_tf, 'admissionid']\n",
        "exclude_admissionid = af.loc[af_exclusion_tf, 'admissionid']\n",
        "include_admissionid = include_admissionid[~include_admissionid.isin(exclude_admissionid)]\n",
        "include_admissionid.size"
      ],
      "execution_count": null,
      "outputs": []
    },
    {
      "cell_type": "code",
      "metadata": {
        "id": "dc2IlvQBehfi"
      },
      "source": [
        "admissions_df = pd.read_gbq(diagnoses_sql, configuration = config_gbq)\n",
        "admissions_df.head()"
      ],
      "execution_count": null,
      "outputs": []
    },
    {
      "cell_type": "code",
      "metadata": {
        "id": "jPlsAVSyhcWT"
      },
      "source": [
        "admissions_df['afib'] = admissions_df['admissionid'].isin(include_admissionid) \n",
        "admissions_df['afib'] &= admissions_df['admissioncount'] == 1\n",
        "admissions_df['afib'].sum()\n",
        "\n",
        "## patients we assume have AF but not NOAF, by criterion given\n",
        "admissions_df['previous_afib'] = admissions_df['admissionid'].isin(exclude_admissionid) \n",
        "admissions_df['previous_afib'] &= admissions_df['admissioncount'] == 1\n",
        "admissions_df['previous_afib'].sum()"
      ],
      "execution_count": null,
      "outputs": []
    },
    {
      "cell_type": "markdown",
      "metadata": {
        "id": "14_mgAd3fOHE"
      },
      "source": [
        "**Identify cardiothoracic patients**"
      ]
    },
    {
      "cell_type": "code",
      "metadata": {
        "id": "y52C3vz3evHG"
      },
      "source": [
        "re_cardiosurg = r'(CABG|AVR|hartchirurgie|heart surgery|Chron. cardiovasculaire ziekte|hartkleppen' + \\\n",
        "r'|cardiovascula|MVP|MVR|mitral|tricuspid|pericard|aortic.*valve|lobectom|segment|thorax|Bentall|aorta-ascendens|aorta-boog' + \\\n",
        "r'|aorta-wortel|aorta-descendens|lung|pneumectomie|bullectom|respiratoir neoplasm|thoracoscop|thoracotom(y|ie)|respirato' + \\\n",
        "r'|vrije wand ruptuur|VSR|ASD|pleurectom|intracardiac|aneurysmectom|congenital defect repair)(?! for esophag)'\n",
        "re_cardiosurg = r'(CABG|AVR|MVP|MVR|valve)'"
      ],
      "execution_count": null,
      "outputs": []
    },
    {
      "cell_type": "code",
      "metadata": {
        "id": "QB9ThvADey_O"
      },
      "source": [
        "# Patients who have CBAG / valve surgery (from cardiology or cardiac surgery)\n",
        "admissions_df['is_cardiosurg'] = admissions_df['surgical'] == 1\n",
        "admissions_df['is_cardiosurg'] &= admissions_df['diagnosis'].str.contains(re_cardiosurg, na=False, flags=re.IGNORECASE)\n",
        "admissions_df['is_cardiosurg'] &= admissions_df['specialty'].isin(['Cardiochirurgie', 'Cardiologie'])"
      ],
      "execution_count": null,
      "outputs": []
    },
    {
      "cell_type": "markdown",
      "metadata": {
        "id": "B8rvk3zyfHh4"
      },
      "source": [
        "**Identify patients with sepsis**"
      ]
    },
    {
      "cell_type": "code",
      "metadata": {
        "id": "J6TkJKLafRV-"
      },
      "source": [
        "re_sepsis_surg = r'sepsis|pneumoni|GI perforation|perforation/rupture|infection|abscess|GI Vascular ischemia|diverticular|appendectomy|peritonitis'\n",
        "re_sepsis_med = r'sepsis|septic|infect|pneumoni|cholangitis|pancr|endocarditis|meningitis|GI perforation|abces|abscess|darm ischaemie|GI vascular|fasciitis' + \\\n",
        "r'|inflammatory|peritonitis'"
      ],
      "execution_count": null,
      "outputs": []
    },
    {
      "cell_type": "code",
      "metadata": {
        "id": "fHUqG8OqfnlP"
      },
      "source": [
        "admissions_df['is_sepsis_surgical'] = admissions_df['surgical'] == 1\n",
        "admissions_df['is_sepsis_surgical'] &= admissions_df['diagnosis'].str.contains(re_sepsis_surg, na=False, flags=re.IGNORECASE)\n",
        "admissions_df['is_sepsis_surgical'] &= ~(admissions_df['sepsis_at_admission'] == 0)\n",
        "\n",
        "# medical admissions with sepsis\n",
        "admissions_df['is_sepsis'] = (\n",
        "      (admissions_df['surgical'] == 0) & admissions_df['diagnosis'].str.contains(re_sepsis_med, na=False, flags=re.IGNORECASE)\n",
        "   ) | (\n",
        "      admissions_df['sepsis_at_admission'] == 1\n",
        "   ) | (\n",
        "      admissions_df['sepsis_antibiotics_bool'] == 1\n",
        "   ) | (\n",
        "      (admissions_df['other_antibiotics_bool'] == 1) & (admissions_df['sepsis_cultures_bool'] == 1)\n",
        ")\n",
        "admissions_df['is_sepsis'] &= ~(admissions_df['sepsis_at_admission'] == 0)\n",
        "admissions_df['is_sepsis'] |= admissions_df['is_sepsis_surgical']\n",
        "\n",
        "# def sepsis_ind(diagnosis_df):\n",
        "#   ind = (\n",
        "#     (\n",
        "#       #use reasons for admission\n",
        "#       #surgical admissions with sepsis\n",
        "#       (patient_df['surgical'] == 1) \n",
        "#       & (diagnosis_df['diagnosis'].str.contains(re_sepsis_surg, na=False, flags=re.IGNORECASE))\n",
        "#     ) | (\n",
        "#       #medical admissions with sepsis\n",
        "#       (diagnosis_df['surgical'] == 0) \n",
        "#       & (diagnosis_df['diagnosis'].str.contains(re_sepsis_med, na=False, flags=re.IGNORECASE))\n",
        "#       ) | (\n",
        "#           #uses documentation at admission form (Early Goal Directed Therapy)\n",
        "#           (diagnosis_df['sepsis_at_admission'] == 1)\n",
        "#       ) | (\n",
        "#           #uses administered (therapeutic) antibiotics for determining sepsis\n",
        "#           (diagnosis_df['sepsis_antibiotics_bool'] == 1)\n",
        "#       ) | (\n",
        "#           #uses combination of administered antibiotics (that sometimes are used as prophylaxis) AND \n",
        "#           #drawn cultures for determining sepsis\n",
        "#           (diagnosis_df['other_antibiotics_bool'] == 1) \n",
        "#           & (diagnosis_df['sepsis_cultures_bool'] == 1)\n",
        "#       )\n",
        "#     ) & ~(diagnosis_df['sepsis_at_admission'] == 0)\n",
        "#   )\n",
        "#   return ind"
      ],
      "execution_count": null,
      "outputs": []
    },
    {
      "cell_type": "code",
      "metadata": {
        "id": "DJltSyZTlPfc"
      },
      "source": [
        "## query numbers\n",
        "ind_all = (admissions_df['admissioncount'] == 1) & (admissions_df['previous_afib'] == 0)\n",
        "## CABG/valve surgery subset (no previous AF)\n",
        "print('CABG/valve surgery (no previous AF)')\n",
        "print((admissions_df['is_cardiosurg'] & ind_all).sum())\n",
        "## CABG/valve surgery x NOAF subset\n",
        "print('CABG/valve surgery x NOAF')\n",
        "print((admissions_df['is_cardiosurg'] & admissions_df['afib'] & ind_all).sum())\n",
        "## Sepsis subset (no previous AF)\n",
        "print('Sepsis (no previous AF)')\n",
        "print((admissions_df['is_sepsis'] & ind_all).sum())\n",
        "## Sepsis x NOAF subset\n",
        "print('Sepsis x NOAF')\n",
        "print((admissions_df['is_sepsis'] & admissions_df['afib'] & ind_all).sum())\n",
        "# (admissions_df['admissioncount'] == 1).sum()"
      ],
      "execution_count": null,
      "outputs": []
    },
    {
      "cell_type": "markdown",
      "metadata": {
        "id": "g7k0tQuunLBk"
      },
      "source": [
        "**Prepare dataframe**"
      ]
    },
    {
      "cell_type": "code",
      "metadata": {
        "id": "vanLSvdpm1kZ"
      },
      "source": [
        "ind_all = (admissions_df['admissioncount'] == 1) & (admissions_df['previous_afib'] == 0)\n",
        "admissions_df = admissions_df.loc[ind_all]"
      ],
      "execution_count": null,
      "outputs": []
    },
    {
      "cell_type": "code",
      "metadata": {
        "id": "KCg6z0PArVxy"
      },
      "source": [
        "weight_max_dict = {'59-': 59, '60-69': 69, '70-79': 79, '80-89': 89, '90-99': 99, '100-109': 109, '110+': 110}\n",
        "height_min_dict = {'159-': 1.59, '160-169': 1.60, '170-179': 1.70, '180-189': 1.80, '190+': 1.90}\n",
        "\n",
        "admissions_df['bmi_max'] = (admissions_df['weightgroup'].copy().replace(weight_max_dict) \\\n",
        "                            / (admissions_df['heightgroup'].copy().replace(height_min_dict) ** 2))"
      ],
      "execution_count": null,
      "outputs": []
    },
    {
      "cell_type": "code",
      "metadata": {
        "id": "xEpbwoOtyp7I"
      },
      "source": [
        "# admissions_df['admissionyeargroup'].value_counts()\n",
        "# admissions_df['admissionyeargroup'].isna().sum()\n",
        "admissions_df['admissionyear_2010s'] = admissions_df['admissionyeargroup'] == '2010-2016'"
      ],
      "execution_count": null,
      "outputs": []
    },
    {
      "cell_type": "code",
      "metadata": {
        "id": "SHo_31gvzgba"
      },
      "source": [
        "admissions_df['female'] = admissions_df['gender'] == 'Vrouw'\n",
        "admissions_df.loc[admissions_df['gender'] == '', 'female'] = np.nan"
      ],
      "execution_count": null,
      "outputs": []
    },
    {
      "cell_type": "code",
      "metadata": {
        "id": "0UoONHv80m4p"
      },
      "source": [
        "admissions_df['agegroup_59-'] = admissions_df['agegroup'].isin(['18-39', '40-49', '50-59'])\n",
        "admissions_df['agegroup_60-69'] = admissions_df['agegroup'] == '60-69'\n",
        "admissions_df['agegroup_70-79'] = admissions_df['agegroup'] == '70-79'\n",
        "admissions_df['agegroup_80+'] = admissions_df['agegroup'] == '80+'"
      ],
      "execution_count": null,
      "outputs": []
    },
    {
      "cell_type": "code",
      "metadata": {
        "id": "EpPd71Rz2RPE"
      },
      "source": [
        "admissions_df['surgical'] = admissions_df['surgical'] == 1"
      ],
      "execution_count": null,
      "outputs": []
    },
    {
      "cell_type": "code",
      "metadata": {
        "id": "20nMMUnA2elc"
      },
      "source": [
        "admissions_df['heightgroup'].isna().sum()"
      ],
      "execution_count": null,
      "outputs": []
    },
    {
      "cell_type": "code",
      "metadata": {
        "id": "dpvST9M9nR4a"
      },
      "source": [
        "exclude_columns = ['patientid', 'admissioncount', 'location', 'origin']\n",
        "exclude_columns += ['admittedat', 'dischargedat', 'destination', 'dateofdeath']\n",
        "exclude_columns += ['weightsource', 'heightsource', 'diagnosis_type']\n",
        "exclude_columns += ['admissionyeargroup', 'gender', 'agegroup']\n",
        "# exclude_columns += ['agegroup_59-', 'agegroup_60-69', 'agegroup_70-79', 'agegroup_80+'] \n",
        "exclude_columns += ['weightgroup', 'heightgroup', 'lengthofstay', 'specialty']\n",
        "exclude_columns += ['diagnosis', 'diagnosis_id', 'sepsis_at_admission']\n",
        "exclude_columns += ['sepsis_antibiotics_bool', 'sepsis_antibiotics_given']\n",
        "exclude_columns += ['other_antibiotics_bool', 'other_antibiotics_given']\n",
        "exclude_columns += ['sepsis_cultures_bool', 'sepsis_cultures_drawn']\n",
        "model_df = admissions_df.drop(columns = exclude_columns)"
      ],
      "execution_count": null,
      "outputs": []
    },
    {
      "cell_type": "code",
      "metadata": {
        "id": "s8fkcEedyD88"
      },
      "source": [
        "# ohe = OneHotEncoder()\n",
        "# ohe_age = ohe.fit_transform(model_df[[\"agegroup\"]])\n",
        "# pd.DataFrame(ohe_age.toarray(), columns=ohe.categories_).head()"
      ],
      "execution_count": null,
      "outputs": []
    },
    {
      "cell_type": "code",
      "metadata": {
        "id": "bMjiO6wzpw1c"
      },
      "source": [
        "sepsis_df = model_df.loc[model_df['is_sepsis'] == 1, :].drop(columns = ['is_cardiosurg', 'is_sepsis', 'surgical'])\n",
        "sepsis_df.columns\n",
        "\n",
        "sepsis_df = sepsis_df.loc[sepsis_df.isna().sum(axis = 1) == 0, :]\n",
        "# sepsis_df['agegroup'] = sepsis_df['agegroup'].cat.rename_categories([])\n",
        "# s.cat.rename_categories([1, 2, 3])\n",
        "# sepsis_df.shape"
      ],
      "execution_count": null,
      "outputs": []
    },
    {
      "cell_type": "code",
      "metadata": {
        "id": "I4-8bZnDoUKg"
      },
      "source": [
        "train_df, test_df, train_outcome, test_outcome = train_test_split(sepsis_df.drop(columns = ['admissionid', 'afib']), sepsis_df['afib'], random_state=0)"
      ],
      "execution_count": null,
      "outputs": []
    },
    {
      "cell_type": "code",
      "metadata": {
        "id": "wiXszlLWpqQx"
      },
      "source": [
        "clf = tree.DecisionTreeClassifier(random_state=0, max_depth=10, min_samples_leaf=10, criterion='gini', class_weight='balanced')\n",
        "path = clf.cost_complexity_pruning_path(train_df, train_outcome)\n",
        "ccp_alphas, impurities = path.ccp_alphas, path.impurities"
      ],
      "execution_count": null,
      "outputs": []
    },
    {
      "cell_type": "code",
      "metadata": {
        "id": "hFAIBwmX3CzN"
      },
      "source": [
        "fig, ax = plt.subplots()\n",
        "ax.plot(ccp_alphas[:-1], impurities[:-1], marker='o', drawstyle=\"steps-post\")\n",
        "ax.set_xlabel(\"effective alpha\")\n",
        "ax.set_ylabel(\"total impurity of leaves\")\n",
        "ax.set_title(\"Total Impurity vs effective alpha for training set\")"
      ],
      "execution_count": null,
      "outputs": []
    },
    {
      "cell_type": "code",
      "metadata": {
        "id": "KcNIBM2o3S0l"
      },
      "source": [
        "clfs = []\n",
        "for ccp_alpha in ccp_alphas[ccp_alphas > 0]:\n",
        "    clf = tree.DecisionTreeClassifier(random_state=0, ccp_alpha=ccp_alpha, max_depth=10, min_samples_leaf=10, criterion='gini', class_weight='balanced')\n",
        "    clf.fit(train_df, train_outcome)\n",
        "    clfs.append(clf)\n",
        "print(\"Number of nodes in the last tree is: {} with ccp_alpha: {}\".format(\n",
        "      clfs[-1].tree_.node_count, ccp_alphas[-1]))"
      ],
      "execution_count": null,
      "outputs": []
    },
    {
      "cell_type": "code",
      "metadata": {
        "id": "DiGNtgaw3aXW"
      },
      "source": [
        "clfs = clfs[:-1]\n",
        "ccp_alphas = ccp_alphas[:-1]\n",
        "\n",
        "node_counts = [clf.tree_.node_count for clf in clfs]\n",
        "depth = [clf.tree_.max_depth for clf in clfs]\n",
        "fig, ax = plt.subplots(2, 1)\n",
        "ax[0].plot(ccp_alphas[ccp_alphas > 0], node_counts, marker='o', drawstyle=\"steps-post\")\n",
        "ax[0].set_xlabel(\"alpha\")\n",
        "ax[0].set_ylabel(\"number of nodes\")\n",
        "ax[0].set_title(\"Number of nodes vs alpha\")\n",
        "ax[1].plot(ccp_alphas[ccp_alphas > 0], depth, marker='o', drawstyle=\"steps-post\")\n",
        "ax[1].set_xlabel(\"alpha\")\n",
        "ax[1].set_ylabel(\"depth of tree\")\n",
        "ax[1].set_title(\"Depth vs alpha\")\n",
        "fig.tight_layout()"
      ],
      "execution_count": null,
      "outputs": []
    },
    {
      "cell_type": "code",
      "metadata": {
        "id": "gH5mqA-D3lKU"
      },
      "source": [
        "train_scores = [clf.score(train_df, train_outcome) for clf in clfs]\n",
        "test_scores = [clf.score(test_df, test_outcome) for clf in clfs]\n",
        "\n",
        "fig, ax = plt.subplots()\n",
        "ax.set_xlabel(\"alpha\")\n",
        "ax.set_ylabel(\"accuracy\")\n",
        "ax.set_title(\"Accuracy vs alpha for training and testing sets\")\n",
        "ax.plot(ccp_alphas[ccp_alphas > 0], train_scores, marker='o', label=\"train\",\n",
        "        drawstyle=\"steps-post\")\n",
        "ax.plot(ccp_alphas[ccp_alphas > 0], test_scores, marker='o', label=\"test\",\n",
        "        drawstyle=\"steps-post\")\n",
        "ax.legend()\n",
        "plt.show()"
      ],
      "execution_count": null,
      "outputs": []
    },
    {
      "cell_type": "code",
      "metadata": {
        "id": "i4Fkc6R94COq"
      },
      "source": [
        "!pip install graphviz\n",
        "!pip install pydotplus"
      ],
      "execution_count": null,
      "outputs": []
    },
    {
      "cell_type": "code",
      "metadata": {
        "id": "ivsp0w-25BQw"
      },
      "source": [
        "sepsis_df.columns.drop(['admissionid', 'afib'])"
      ],
      "execution_count": null,
      "outputs": []
    },
    {
      "cell_type": "code",
      "metadata": {
        "id": "6PSu932q4hln"
      },
      "source": [
        "from sklearn.tree import export_graphviz\n",
        "from sklearn.externals.six import StringIO  \n",
        "from IPython.display import Image  \n",
        "import pydotplus\n",
        "\n",
        "clf = tree.DecisionTreeClassifier(random_state=0, max_depth=3, min_samples_leaf=20, criterion='entropy', class_weight='balanced')\n",
        "clf.fit(train_df, train_outcome)\n",
        "dot_data = StringIO()\n",
        "export_graphviz(clf, out_file=dot_data,  \n",
        "                filled=True, rounded=False,\n",
        "                special_characters=True, \n",
        "                feature_names = sepsis_df.columns.drop(['admissionid', 'afib']), \n",
        "                class_names=['No AF','AF'])\n",
        "graph = pydotplus.graph_from_dot_data(dot_data.getvalue())  \n",
        "Image(graph.create_png())"
      ],
      "execution_count": null,
      "outputs": []
    },
    {
      "cell_type": "code",
      "metadata": {
        "id": "w7_TnwYY7cwf"
      },
      "source": [
        ""
      ],
      "execution_count": null,
      "outputs": []
    }
  ]
}